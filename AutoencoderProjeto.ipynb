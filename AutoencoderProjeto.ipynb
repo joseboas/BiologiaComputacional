{
 "cells": [
  {
   "cell_type": "code",
   "execution_count": 3,
   "id": "531c4fd5",
   "metadata": {},
   "outputs": [
    {
     "name": "stdout",
     "output_type": "stream",
     "text": [
      "Collecting mlxtend\n",
      "  Downloading mlxtend-0.19.0-py2.py3-none-any.whl (1.3 MB)\n",
      "\u001b[K     |████████████████████████████████| 1.3 MB 4.3 MB/s eta 0:00:01\n",
      "\u001b[?25hRequirement already satisfied: scikit-learn>=0.20.3 in /home/joseluiz/anaconda3/lib/python3.8/site-packages (from mlxtend) (0.24.1)\n",
      "Requirement already satisfied: matplotlib>=3.0.0 in /home/joseluiz/anaconda3/lib/python3.8/site-packages (from mlxtend) (3.3.4)\n",
      "Requirement already satisfied: joblib>=0.13.2 in /home/joseluiz/anaconda3/lib/python3.8/site-packages (from mlxtend) (1.0.1)\n",
      "Requirement already satisfied: numpy>=1.16.2 in /home/joseluiz/anaconda3/lib/python3.8/site-packages (from mlxtend) (1.20.1)\n",
      "Requirement already satisfied: scipy>=1.2.1 in /home/joseluiz/anaconda3/lib/python3.8/site-packages (from mlxtend) (1.6.2)\n",
      "Requirement already satisfied: setuptools in /home/joseluiz/anaconda3/lib/python3.8/site-packages (from mlxtend) (52.0.0.post20210125)\n",
      "Requirement already satisfied: pandas>=0.24.2 in /home/joseluiz/anaconda3/lib/python3.8/site-packages (from mlxtend) (1.3.4)\n",
      "Requirement already satisfied: python-dateutil>=2.1 in /home/joseluiz/anaconda3/lib/python3.8/site-packages (from matplotlib>=3.0.0->mlxtend) (2.8.1)\n",
      "Requirement already satisfied: pyparsing!=2.0.4,!=2.1.2,!=2.1.6,>=2.0.3 in /home/joseluiz/anaconda3/lib/python3.8/site-packages (from matplotlib>=3.0.0->mlxtend) (2.4.7)\n",
      "Requirement already satisfied: pillow>=6.2.0 in /home/joseluiz/anaconda3/lib/python3.8/site-packages (from matplotlib>=3.0.0->mlxtend) (8.2.0)\n",
      "Requirement already satisfied: cycler>=0.10 in /home/joseluiz/anaconda3/lib/python3.8/site-packages (from matplotlib>=3.0.0->mlxtend) (0.10.0)\n",
      "Requirement already satisfied: kiwisolver>=1.0.1 in /home/joseluiz/anaconda3/lib/python3.8/site-packages (from matplotlib>=3.0.0->mlxtend) (1.3.1)\n",
      "Requirement already satisfied: six in /home/joseluiz/anaconda3/lib/python3.8/site-packages (from cycler>=0.10->matplotlib>=3.0.0->mlxtend) (1.15.0)\n",
      "Requirement already satisfied: pytz>=2017.3 in /home/joseluiz/anaconda3/lib/python3.8/site-packages (from pandas>=0.24.2->mlxtend) (2021.1)\n",
      "Requirement already satisfied: threadpoolctl>=2.0.0 in /home/joseluiz/anaconda3/lib/python3.8/site-packages (from scikit-learn>=0.20.3->mlxtend) (2.1.0)\n",
      "Installing collected packages: mlxtend\n",
      "Successfully installed mlxtend-0.19.0\n"
     ]
    }
   ],
   "source": [
    "!pip install mlxtend"
   ]
  },
  {
   "cell_type": "code",
   "execution_count": 1,
   "id": "ce40c7a4",
   "metadata": {},
   "outputs": [],
   "source": [
    "from IPython.display import Image"
   ]
  },
  {
   "cell_type": "code",
   "execution_count": 55,
   "id": "76e43e22",
   "metadata": {},
   "outputs": [],
   "source": [
    "#importando as bibliotecas\n",
    "import os \n",
    "import pandas as pd\n",
    "import matplotlib.pyplot as plt\n",
    "from sklearn.tree import DecisionTreeClassifier\n",
    "from sklearn import tree\n",
    "from sklearn.preprocessing import LabelEncoder\n",
    "from sklearn.model_selection import train_test_split\n",
    "from sklearn.metrics import cohen_kappa_score,confusion_matrix, accuracy_score,  precision_score, recall_score, f1_score, roc_auc_score,roc_curve,auc,r2_score\n",
    "from sklearn.model_selection import KFold \n",
    "from sklearn.model_selection import cross_val_score \n",
    "from sklearn.model_selection import cross_val_predict \n",
    "from imblearn.metrics import specificity_score\n",
    "from sklearn.linear_model import LogisticRegression\n",
    "from mlxtend.feature_selection import SequentialFeatureSelector as SFS\n",
    "import mlxtend\n",
    "from mlxtend.plotting import plot_sequential_feature_selection as plot_sfs\n",
    "import seaborn as sns"
   ]
  },
  {
   "cell_type": "markdown",
   "id": "437ec51b",
   "metadata": {},
   "source": [
    "## Divisão em treino e teste"
   ]
  },
  {
   "cell_type": "code",
   "execution_count": null,
   "id": "3a850885",
   "metadata": {},
   "outputs": [],
   "source": [
    "#Função para dividir em treino e teste\n",
    "def split(finput, test_rate):\n",
    "    dataset = pandas.read_csv(finput)\n",
    "    X = dataset.iloc[:, :-1]\n",
    "    y = dataset.iloc[:, -1]\n",
    "    \n",
    "    X_train, X_test, y_train, y_test = train_test_split(X, y, test_size = test_rate)\n",
    "    train = pandas.concat([X_train, y_train], axis=1)\n",
    "    test = pandas.concat([X_test, y_test], axis=1)\n",
    "    \n",
    "    trainData = os.path.splitext(finput)[0]+\"_train\"+os.path.splitext(finput)[1]\n",
    "    testData = os.path.splitext(finput)[0]+\"_test\"+os.path.splitext(finput)[1]\n",
    "    train.to_csv(trainData, index=False)\n",
    "    test.to_csv(testData, index=False)    \n",
    "    return          "
   ]
  },
  {
   "cell_type": "code",
   "execution_count": 208,
   "id": "8e006d16",
   "metadata": {},
   "outputs": [],
   "source": [
    "# Aplica a divisão treino e teste nas bases mRNA e lncRNA\n",
    "#split('basesHumano/mRNA.csv',0.3)\n",
    "#split('basesHumano/lncRNA.csv',0.3)"
   ]
  },
  {
   "cell_type": "code",
   "execution_count": 3,
   "id": "26ee8236",
   "metadata": {},
   "outputs": [],
   "source": [
    "# carrega a base de dados treino lncRNA e mRNA\n",
    "lncRNA_data = pandas.read_csv('basesHumano/lncRNA_train.csv')\n",
    "mRNA_data = pandas.read_csv('basesHumano/mRNA_train.csv')\n",
    "dadosTreino = pandas.concat([lncRNA_data,mRNA_data])"
   ]
  },
  {
   "cell_type": "markdown",
   "id": "d0482658",
   "metadata": {},
   "source": [
    "## Redução da amostragem em 50%"
   ]
  },
  {
   "cell_type": "code",
   "execution_count": 4,
   "id": "9abf821d",
   "metadata": {},
   "outputs": [
    {
     "data": {
      "text/plain": [
       "(136222, 105)"
      ]
     },
     "execution_count": 4,
     "metadata": {},
     "output_type": "execute_result"
    }
   ],
   "source": [
    "dadosTreino.shape"
   ]
  },
  {
   "cell_type": "code",
   "execution_count": 5,
   "id": "5ef119db",
   "metadata": {},
   "outputs": [],
   "source": [
    "dadosTreino = dadosTreino.sample(frac = 0.50)"
   ]
  },
  {
   "cell_type": "code",
   "execution_count": 6,
   "id": "8358581d",
   "metadata": {},
   "outputs": [
    {
     "data": {
      "text/plain": [
       "(68111, 105)"
      ]
     },
     "execution_count": 6,
     "metadata": {},
     "output_type": "execute_result"
    }
   ],
   "source": [
    "dadosTreino.shape"
   ]
  },
  {
   "cell_type": "code",
   "execution_count": 7,
   "id": "488386d1",
   "metadata": {},
   "outputs": [
    {
     "data": {
      "text/plain": [
       "Index(['nameseq', 'average', 'median', 'maximum', 'minimum', 'peak',\n",
       "       'none_levated_peak', 'sample_standard_deviation',\n",
       "       'population_standard_deviation', 'percentile15',\n",
       "       ...\n",
       "       'TCT', 'TGA', 'TGC', 'TGG', 'TGT', 'TTA', 'TTC', 'TTG', 'TTT', 'label'],\n",
       "      dtype='object', length=105)"
      ]
     },
     "execution_count": 7,
     "metadata": {},
     "output_type": "execute_result"
    }
   ],
   "source": [
    "dadosTreino.columns"
   ]
  },
  {
   "cell_type": "code",
   "execution_count": 8,
   "id": "212900c3",
   "metadata": {},
   "outputs": [
    {
     "data": {
      "text/html": [
       "<div>\n",
       "<style scoped>\n",
       "    .dataframe tbody tr th:only-of-type {\n",
       "        vertical-align: middle;\n",
       "    }\n",
       "\n",
       "    .dataframe tbody tr th {\n",
       "        vertical-align: top;\n",
       "    }\n",
       "\n",
       "    .dataframe thead th {\n",
       "        text-align: right;\n",
       "    }\n",
       "</style>\n",
       "<table border=\"1\" class=\"dataframe\">\n",
       "  <thead>\n",
       "    <tr style=\"text-align: right;\">\n",
       "      <th></th>\n",
       "      <th>nameseq</th>\n",
       "      <th>average</th>\n",
       "      <th>median</th>\n",
       "      <th>maximum</th>\n",
       "      <th>minimum</th>\n",
       "      <th>peak</th>\n",
       "      <th>none_levated_peak</th>\n",
       "      <th>sample_standard_deviation</th>\n",
       "      <th>population_standard_deviation</th>\n",
       "      <th>percentile15</th>\n",
       "      <th>...</th>\n",
       "      <th>TCT</th>\n",
       "      <th>TGA</th>\n",
       "      <th>TGC</th>\n",
       "      <th>TGG</th>\n",
       "      <th>TGT</th>\n",
       "      <th>TTA</th>\n",
       "      <th>TTC</th>\n",
       "      <th>TTG</th>\n",
       "      <th>TTT</th>\n",
       "      <th>label</th>\n",
       "    </tr>\n",
       "  </thead>\n",
       "  <tbody>\n",
       "    <tr>\n",
       "      <th>33328</th>\n",
       "      <td>ENST00000591085.1|ENSG00000126581.13|OTTHUMG00...</td>\n",
       "      <td>3.039960e+06</td>\n",
       "      <td>6539.158630</td>\n",
       "      <td>1.335839e+09</td>\n",
       "      <td>1824.159604</td>\n",
       "      <td>0.000061</td>\n",
       "      <td>0.393024</td>\n",
       "      <td>5.681438e+07</td>\n",
       "      <td>5.686526e+07</td>\n",
       "      <td>3347.176655</td>\n",
       "      <td>...</td>\n",
       "      <td>0.010772</td>\n",
       "      <td>0.017953</td>\n",
       "      <td>0.008977</td>\n",
       "      <td>0.025135</td>\n",
       "      <td>0.010772</td>\n",
       "      <td>0.005386</td>\n",
       "      <td>0.010772</td>\n",
       "      <td>0.008977</td>\n",
       "      <td>0.012567</td>\n",
       "      <td>mRNA</td>\n",
       "    </tr>\n",
       "    <tr>\n",
       "      <th>32243</th>\n",
       "      <td>ENST00000601493.5|ENSG00000170954.12|OTTHUMG00...</td>\n",
       "      <td>1.840331e+08</td>\n",
       "      <td>145796.137831</td>\n",
       "      <td>2.936863e+11</td>\n",
       "      <td>33003.466973</td>\n",
       "      <td>0.000004</td>\n",
       "      <td>0.279498</td>\n",
       "      <td>6.418536e+09</td>\n",
       "      <td>6.420042e+09</td>\n",
       "      <td>76546.918421</td>\n",
       "      <td>...</td>\n",
       "      <td>0.010329</td>\n",
       "      <td>0.018779</td>\n",
       "      <td>0.011268</td>\n",
       "      <td>0.015493</td>\n",
       "      <td>0.024883</td>\n",
       "      <td>0.017371</td>\n",
       "      <td>0.020657</td>\n",
       "      <td>0.014085</td>\n",
       "      <td>0.015493</td>\n",
       "      <td>mRNA</td>\n",
       "    </tr>\n",
       "    <tr>\n",
       "      <th>26147</th>\n",
       "      <td>ENST00000417512.1|ENSG00000165689.17|OTTHUMG00...</td>\n",
       "      <td>3.837719e+06</td>\n",
       "      <td>5492.253437</td>\n",
       "      <td>1.966178e+09</td>\n",
       "      <td>1603.411739</td>\n",
       "      <td>0.000054</td>\n",
       "      <td>0.493940</td>\n",
       "      <td>7.893571e+07</td>\n",
       "      <td>7.899883e+07</td>\n",
       "      <td>2898.081874</td>\n",
       "      <td>...</td>\n",
       "      <td>0.017628</td>\n",
       "      <td>0.033654</td>\n",
       "      <td>0.017628</td>\n",
       "      <td>0.012821</td>\n",
       "      <td>0.012821</td>\n",
       "      <td>0.008013</td>\n",
       "      <td>0.016026</td>\n",
       "      <td>0.011218</td>\n",
       "      <td>0.004808</td>\n",
       "      <td>mRNA</td>\n",
       "    </tr>\n",
       "    <tr>\n",
       "      <th>50650</th>\n",
       "      <td>ENST00000411429.5|ENSG00000179818.15|OTTHUMG00...</td>\n",
       "      <td>4.849460e+05</td>\n",
       "      <td>1781.315155</td>\n",
       "      <td>1.930169e+08</td>\n",
       "      <td>153.181918</td>\n",
       "      <td>0.000376</td>\n",
       "      <td>0.851473</td>\n",
       "      <td>8.325298e+06</td>\n",
       "      <td>8.332918e+06</td>\n",
       "      <td>702.741496</td>\n",
       "      <td>...</td>\n",
       "      <td>0.014679</td>\n",
       "      <td>0.033028</td>\n",
       "      <td>0.012844</td>\n",
       "      <td>0.020183</td>\n",
       "      <td>0.011009</td>\n",
       "      <td>0.022018</td>\n",
       "      <td>0.016514</td>\n",
       "      <td>0.011009</td>\n",
       "      <td>0.016514</td>\n",
       "      <td>lncRNA</td>\n",
       "    </tr>\n",
       "    <tr>\n",
       "      <th>43297</th>\n",
       "      <td>ENST00000641795.1|ENSG00000075539.15|OTTHUMG00...</td>\n",
       "      <td>1.464225e+09</td>\n",
       "      <td>509330.525959</td>\n",
       "      <td>5.791058e+12</td>\n",
       "      <td>182223.922129</td>\n",
       "      <td>0.000001</td>\n",
       "      <td>0.426379</td>\n",
       "      <td>7.874758e+10</td>\n",
       "      <td>7.875465e+10</td>\n",
       "      <td>270383.046721</td>\n",
       "      <td>...</td>\n",
       "      <td>0.021927</td>\n",
       "      <td>0.024083</td>\n",
       "      <td>0.016535</td>\n",
       "      <td>0.019410</td>\n",
       "      <td>0.016894</td>\n",
       "      <td>0.017434</td>\n",
       "      <td>0.018692</td>\n",
       "      <td>0.017793</td>\n",
       "      <td>0.029475</td>\n",
       "      <td>mRNA</td>\n",
       "    </tr>\n",
       "    <tr>\n",
       "      <th>...</th>\n",
       "      <td>...</td>\n",
       "      <td>...</td>\n",
       "      <td>...</td>\n",
       "      <td>...</td>\n",
       "      <td>...</td>\n",
       "      <td>...</td>\n",
       "      <td>...</td>\n",
       "      <td>...</td>\n",
       "      <td>...</td>\n",
       "      <td>...</td>\n",
       "      <td>...</td>\n",
       "      <td>...</td>\n",
       "      <td>...</td>\n",
       "      <td>...</td>\n",
       "      <td>...</td>\n",
       "      <td>...</td>\n",
       "      <td>...</td>\n",
       "      <td>...</td>\n",
       "      <td>...</td>\n",
       "      <td>...</td>\n",
       "      <td>...</td>\n",
       "    </tr>\n",
       "    <tr>\n",
       "      <th>22167</th>\n",
       "      <td>ENST00000431376.1|ENSG00000230730.1|OTTHUMG000...</td>\n",
       "      <td>8.254050e+05</td>\n",
       "      <td>1965.924891</td>\n",
       "      <td>3.993825e+08</td>\n",
       "      <td>113.955521</td>\n",
       "      <td>0.000235</td>\n",
       "      <td>0.816217</td>\n",
       "      <td>1.659777e+07</td>\n",
       "      <td>1.661207e+07</td>\n",
       "      <td>873.290101</td>\n",
       "      <td>...</td>\n",
       "      <td>0.034542</td>\n",
       "      <td>0.015544</td>\n",
       "      <td>0.015544</td>\n",
       "      <td>0.020725</td>\n",
       "      <td>0.036269</td>\n",
       "      <td>0.012090</td>\n",
       "      <td>0.024180</td>\n",
       "      <td>0.008636</td>\n",
       "      <td>0.012090</td>\n",
       "      <td>lncRNA</td>\n",
       "    </tr>\n",
       "    <tr>\n",
       "      <th>47707</th>\n",
       "      <td>ENST00000512599.1|ENSG00000249405.1|OTTHUMG000...</td>\n",
       "      <td>9.703611e+06</td>\n",
       "      <td>19223.418185</td>\n",
       "      <td>5.690126e+09</td>\n",
       "      <td>4709.500464</td>\n",
       "      <td>0.000027</td>\n",
       "      <td>0.340730</td>\n",
       "      <td>2.044237e+08</td>\n",
       "      <td>2.045525e+08</td>\n",
       "      <td>10971.058190</td>\n",
       "      <td>...</td>\n",
       "      <td>0.022727</td>\n",
       "      <td>0.025253</td>\n",
       "      <td>0.008838</td>\n",
       "      <td>0.017677</td>\n",
       "      <td>0.016414</td>\n",
       "      <td>0.020202</td>\n",
       "      <td>0.018939</td>\n",
       "      <td>0.017677</td>\n",
       "      <td>0.027778</td>\n",
       "      <td>lncRNA</td>\n",
       "    </tr>\n",
       "    <tr>\n",
       "      <th>6519</th>\n",
       "      <td>ENST00000620618.4|ENSG00000235831.7|OTTHUMG000...</td>\n",
       "      <td>7.514135e+07</td>\n",
       "      <td>56782.370534</td>\n",
       "      <td>9.899371e+10</td>\n",
       "      <td>16759.943452</td>\n",
       "      <td>0.000010</td>\n",
       "      <td>0.531469</td>\n",
       "      <td>2.179226e+09</td>\n",
       "      <td>2.179689e+09</td>\n",
       "      <td>30109.076603</td>\n",
       "      <td>...</td>\n",
       "      <td>0.022949</td>\n",
       "      <td>0.022524</td>\n",
       "      <td>0.019550</td>\n",
       "      <td>0.018275</td>\n",
       "      <td>0.019550</td>\n",
       "      <td>0.013600</td>\n",
       "      <td>0.024224</td>\n",
       "      <td>0.021674</td>\n",
       "      <td>0.040374</td>\n",
       "      <td>lncRNA</td>\n",
       "    </tr>\n",
       "    <tr>\n",
       "      <th>67149</th>\n",
       "      <td>ENST00000323675.4|ENSG00000181323.8|OTTHUMG000...</td>\n",
       "      <td>1.487930e+07</td>\n",
       "      <td>22189.119384</td>\n",
       "      <td>1.031065e+10</td>\n",
       "      <td>5333.146992</td>\n",
       "      <td>0.000023</td>\n",
       "      <td>0.397254</td>\n",
       "      <td>3.311770e+08</td>\n",
       "      <td>3.313397e+08</td>\n",
       "      <td>11622.033225</td>\n",
       "      <td>...</td>\n",
       "      <td>0.009843</td>\n",
       "      <td>0.017717</td>\n",
       "      <td>0.015748</td>\n",
       "      <td>0.025591</td>\n",
       "      <td>0.017717</td>\n",
       "      <td>0.003937</td>\n",
       "      <td>0.009843</td>\n",
       "      <td>0.004921</td>\n",
       "      <td>0.002953</td>\n",
       "      <td>mRNA</td>\n",
       "    </tr>\n",
       "    <tr>\n",
       "      <th>27545</th>\n",
       "      <td>ENST00000525693.5|ENSG00000173039.19|OTTHUMG00...</td>\n",
       "      <td>3.503660e+08</td>\n",
       "      <td>123251.720087</td>\n",
       "      <td>9.123587e+11</td>\n",
       "      <td>35714.541270</td>\n",
       "      <td>0.000003</td>\n",
       "      <td>0.453903</td>\n",
       "      <td>1.623954e+10</td>\n",
       "      <td>1.624209e+10</td>\n",
       "      <td>64635.433547</td>\n",
       "      <td>...</td>\n",
       "      <td>0.022949</td>\n",
       "      <td>0.016033</td>\n",
       "      <td>0.020119</td>\n",
       "      <td>0.023263</td>\n",
       "      <td>0.015718</td>\n",
       "      <td>0.005659</td>\n",
       "      <td>0.016347</td>\n",
       "      <td>0.012260</td>\n",
       "      <td>0.012575</td>\n",
       "      <td>mRNA</td>\n",
       "    </tr>\n",
       "  </tbody>\n",
       "</table>\n",
       "<p>68111 rows × 105 columns</p>\n",
       "</div>"
      ],
      "text/plain": [
       "                                                 nameseq       average  \\\n",
       "33328  ENST00000591085.1|ENSG00000126581.13|OTTHUMG00...  3.039960e+06   \n",
       "32243  ENST00000601493.5|ENSG00000170954.12|OTTHUMG00...  1.840331e+08   \n",
       "26147  ENST00000417512.1|ENSG00000165689.17|OTTHUMG00...  3.837719e+06   \n",
       "50650  ENST00000411429.5|ENSG00000179818.15|OTTHUMG00...  4.849460e+05   \n",
       "43297  ENST00000641795.1|ENSG00000075539.15|OTTHUMG00...  1.464225e+09   \n",
       "...                                                  ...           ...   \n",
       "22167  ENST00000431376.1|ENSG00000230730.1|OTTHUMG000...  8.254050e+05   \n",
       "47707  ENST00000512599.1|ENSG00000249405.1|OTTHUMG000...  9.703611e+06   \n",
       "6519   ENST00000620618.4|ENSG00000235831.7|OTTHUMG000...  7.514135e+07   \n",
       "67149  ENST00000323675.4|ENSG00000181323.8|OTTHUMG000...  1.487930e+07   \n",
       "27545  ENST00000525693.5|ENSG00000173039.19|OTTHUMG00...  3.503660e+08   \n",
       "\n",
       "              median       maximum        minimum      peak  \\\n",
       "33328    6539.158630  1.335839e+09    1824.159604  0.000061   \n",
       "32243  145796.137831  2.936863e+11   33003.466973  0.000004   \n",
       "26147    5492.253437  1.966178e+09    1603.411739  0.000054   \n",
       "50650    1781.315155  1.930169e+08     153.181918  0.000376   \n",
       "43297  509330.525959  5.791058e+12  182223.922129  0.000001   \n",
       "...              ...           ...            ...       ...   \n",
       "22167    1965.924891  3.993825e+08     113.955521  0.000235   \n",
       "47707   19223.418185  5.690126e+09    4709.500464  0.000027   \n",
       "6519    56782.370534  9.899371e+10   16759.943452  0.000010   \n",
       "67149   22189.119384  1.031065e+10    5333.146992  0.000023   \n",
       "27545  123251.720087  9.123587e+11   35714.541270  0.000003   \n",
       "\n",
       "       none_levated_peak  sample_standard_deviation  \\\n",
       "33328           0.393024               5.681438e+07   \n",
       "32243           0.279498               6.418536e+09   \n",
       "26147           0.493940               7.893571e+07   \n",
       "50650           0.851473               8.325298e+06   \n",
       "43297           0.426379               7.874758e+10   \n",
       "...                  ...                        ...   \n",
       "22167           0.816217               1.659777e+07   \n",
       "47707           0.340730               2.044237e+08   \n",
       "6519            0.531469               2.179226e+09   \n",
       "67149           0.397254               3.311770e+08   \n",
       "27545           0.453903               1.623954e+10   \n",
       "\n",
       "       population_standard_deviation   percentile15  ...       TCT       TGA  \\\n",
       "33328                   5.686526e+07    3347.176655  ...  0.010772  0.017953   \n",
       "32243                   6.420042e+09   76546.918421  ...  0.010329  0.018779   \n",
       "26147                   7.899883e+07    2898.081874  ...  0.017628  0.033654   \n",
       "50650                   8.332918e+06     702.741496  ...  0.014679  0.033028   \n",
       "43297                   7.875465e+10  270383.046721  ...  0.021927  0.024083   \n",
       "...                              ...            ...  ...       ...       ...   \n",
       "22167                   1.661207e+07     873.290101  ...  0.034542  0.015544   \n",
       "47707                   2.045525e+08   10971.058190  ...  0.022727  0.025253   \n",
       "6519                    2.179689e+09   30109.076603  ...  0.022949  0.022524   \n",
       "67149                   3.313397e+08   11622.033225  ...  0.009843  0.017717   \n",
       "27545                   1.624209e+10   64635.433547  ...  0.022949  0.016033   \n",
       "\n",
       "            TGC       TGG       TGT       TTA       TTC       TTG       TTT  \\\n",
       "33328  0.008977  0.025135  0.010772  0.005386  0.010772  0.008977  0.012567   \n",
       "32243  0.011268  0.015493  0.024883  0.017371  0.020657  0.014085  0.015493   \n",
       "26147  0.017628  0.012821  0.012821  0.008013  0.016026  0.011218  0.004808   \n",
       "50650  0.012844  0.020183  0.011009  0.022018  0.016514  0.011009  0.016514   \n",
       "43297  0.016535  0.019410  0.016894  0.017434  0.018692  0.017793  0.029475   \n",
       "...         ...       ...       ...       ...       ...       ...       ...   \n",
       "22167  0.015544  0.020725  0.036269  0.012090  0.024180  0.008636  0.012090   \n",
       "47707  0.008838  0.017677  0.016414  0.020202  0.018939  0.017677  0.027778   \n",
       "6519   0.019550  0.018275  0.019550  0.013600  0.024224  0.021674  0.040374   \n",
       "67149  0.015748  0.025591  0.017717  0.003937  0.009843  0.004921  0.002953   \n",
       "27545  0.020119  0.023263  0.015718  0.005659  0.016347  0.012260  0.012575   \n",
       "\n",
       "        label  \n",
       "33328    mRNA  \n",
       "32243    mRNA  \n",
       "26147    mRNA  \n",
       "50650  lncRNA  \n",
       "43297    mRNA  \n",
       "...       ...  \n",
       "22167  lncRNA  \n",
       "47707  lncRNA  \n",
       "6519   lncRNA  \n",
       "67149    mRNA  \n",
       "27545    mRNA  \n",
       "\n",
       "[68111 rows x 105 columns]"
      ]
     },
     "execution_count": 8,
     "metadata": {},
     "output_type": "execute_result"
    }
   ],
   "source": [
    "dadosTreino"
   ]
  },
  {
   "cell_type": "code",
   "execution_count": 9,
   "id": "b45871a6",
   "metadata": {},
   "outputs": [],
   "source": [
    "#Remove column nameseq\n",
    "dadosTreino.drop(columns='nameseq', inplace=True)"
   ]
  },
  {
   "cell_type": "code",
   "execution_count": 10,
   "id": "7a77c8c9",
   "metadata": {},
   "outputs": [
    {
     "data": {
      "text/plain": [
       "Index(['average', 'median', 'maximum', 'minimum', 'peak', 'none_levated_peak',\n",
       "       'sample_standard_deviation', 'population_standard_deviation',\n",
       "       'percentile15', 'percentile25',\n",
       "       ...\n",
       "       'TCT', 'TGA', 'TGC', 'TGG', 'TGT', 'TTA', 'TTC', 'TTG', 'TTT', 'label'],\n",
       "      dtype='object', length=104)"
      ]
     },
     "execution_count": 10,
     "metadata": {},
     "output_type": "execute_result"
    }
   ],
   "source": [
    "#Vamos verificar\n",
    "dadosTreino.columns"
   ]
  },
  {
   "cell_type": "code",
   "execution_count": 11,
   "id": "1d5693d1",
   "metadata": {},
   "outputs": [
    {
     "data": {
      "text/plain": [
       "average    0\n",
       "median     0\n",
       "maximum    0\n",
       "minimum    0\n",
       "peak       0\n",
       "          ..\n",
       "TTA        0\n",
       "TTC        0\n",
       "TTG        0\n",
       "TTT        0\n",
       "label      0\n",
       "Length: 104, dtype: int64"
      ]
     },
     "execution_count": 11,
     "metadata": {},
     "output_type": "execute_result"
    }
   ],
   "source": [
    "#Verificar valores nulos\n",
    "dadosTreino.isnull().sum()"
   ]
  },
  {
   "cell_type": "code",
   "execution_count": 12,
   "id": "ab1fd405",
   "metadata": {},
   "outputs": [],
   "source": [
    "#Fazendo uma cópia dos dados\n",
    "dadosTreinoAux = dadosTreino.copy()"
   ]
  },
  {
   "cell_type": "code",
   "execution_count": 13,
   "id": "8ed28cf9",
   "metadata": {},
   "outputs": [
    {
     "data": {
      "text/html": [
       "<div>\n",
       "<style scoped>\n",
       "    .dataframe tbody tr th:only-of-type {\n",
       "        vertical-align: middle;\n",
       "    }\n",
       "\n",
       "    .dataframe tbody tr th {\n",
       "        vertical-align: top;\n",
       "    }\n",
       "\n",
       "    .dataframe thead th {\n",
       "        text-align: right;\n",
       "    }\n",
       "</style>\n",
       "<table border=\"1\" class=\"dataframe\">\n",
       "  <thead>\n",
       "    <tr style=\"text-align: right;\">\n",
       "      <th></th>\n",
       "      <th>average</th>\n",
       "      <th>median</th>\n",
       "      <th>maximum</th>\n",
       "      <th>minimum</th>\n",
       "      <th>peak</th>\n",
       "      <th>none_levated_peak</th>\n",
       "      <th>sample_standard_deviation</th>\n",
       "      <th>population_standard_deviation</th>\n",
       "      <th>percentile15</th>\n",
       "      <th>percentile25</th>\n",
       "      <th>...</th>\n",
       "      <th>TCT</th>\n",
       "      <th>TGA</th>\n",
       "      <th>TGC</th>\n",
       "      <th>TGG</th>\n",
       "      <th>TGT</th>\n",
       "      <th>TTA</th>\n",
       "      <th>TTC</th>\n",
       "      <th>TTG</th>\n",
       "      <th>TTT</th>\n",
       "      <th>label</th>\n",
       "    </tr>\n",
       "  </thead>\n",
       "  <tbody>\n",
       "    <tr>\n",
       "      <th>33328</th>\n",
       "      <td>3.039960e+06</td>\n",
       "      <td>6539.158630</td>\n",
       "      <td>1.335839e+09</td>\n",
       "      <td>1824.159604</td>\n",
       "      <td>0.000061</td>\n",
       "      <td>0.393024</td>\n",
       "      <td>5.681438e+07</td>\n",
       "      <td>5.686526e+07</td>\n",
       "      <td>3347.176655</td>\n",
       "      <td>3955.708715</td>\n",
       "      <td>...</td>\n",
       "      <td>0.010772</td>\n",
       "      <td>0.017953</td>\n",
       "      <td>0.008977</td>\n",
       "      <td>0.025135</td>\n",
       "      <td>0.010772</td>\n",
       "      <td>0.005386</td>\n",
       "      <td>0.010772</td>\n",
       "      <td>0.008977</td>\n",
       "      <td>0.012567</td>\n",
       "      <td>mRNA</td>\n",
       "    </tr>\n",
       "    <tr>\n",
       "      <th>32243</th>\n",
       "      <td>1.840331e+08</td>\n",
       "      <td>145796.137831</td>\n",
       "      <td>2.936863e+11</td>\n",
       "      <td>33003.466973</td>\n",
       "      <td>0.000004</td>\n",
       "      <td>0.279498</td>\n",
       "      <td>6.418536e+09</td>\n",
       "      <td>6.420042e+09</td>\n",
       "      <td>76546.918421</td>\n",
       "      <td>85591.297154</td>\n",
       "      <td>...</td>\n",
       "      <td>0.010329</td>\n",
       "      <td>0.018779</td>\n",
       "      <td>0.011268</td>\n",
       "      <td>0.015493</td>\n",
       "      <td>0.024883</td>\n",
       "      <td>0.017371</td>\n",
       "      <td>0.020657</td>\n",
       "      <td>0.014085</td>\n",
       "      <td>0.015493</td>\n",
       "      <td>mRNA</td>\n",
       "    </tr>\n",
       "    <tr>\n",
       "      <th>26147</th>\n",
       "      <td>3.837719e+06</td>\n",
       "      <td>5492.253437</td>\n",
       "      <td>1.966178e+09</td>\n",
       "      <td>1603.411739</td>\n",
       "      <td>0.000054</td>\n",
       "      <td>0.493940</td>\n",
       "      <td>7.893571e+07</td>\n",
       "      <td>7.899883e+07</td>\n",
       "      <td>2898.081874</td>\n",
       "      <td>3411.233946</td>\n",
       "      <td>...</td>\n",
       "      <td>0.017628</td>\n",
       "      <td>0.033654</td>\n",
       "      <td>0.017628</td>\n",
       "      <td>0.012821</td>\n",
       "      <td>0.012821</td>\n",
       "      <td>0.008013</td>\n",
       "      <td>0.016026</td>\n",
       "      <td>0.011218</td>\n",
       "      <td>0.004808</td>\n",
       "      <td>mRNA</td>\n",
       "    </tr>\n",
       "    <tr>\n",
       "      <th>50650</th>\n",
       "      <td>4.849460e+05</td>\n",
       "      <td>1781.315155</td>\n",
       "      <td>1.930169e+08</td>\n",
       "      <td>153.181918</td>\n",
       "      <td>0.000376</td>\n",
       "      <td>0.851473</td>\n",
       "      <td>8.325298e+06</td>\n",
       "      <td>8.332918e+06</td>\n",
       "      <td>702.741496</td>\n",
       "      <td>942.960177</td>\n",
       "      <td>...</td>\n",
       "      <td>0.014679</td>\n",
       "      <td>0.033028</td>\n",
       "      <td>0.012844</td>\n",
       "      <td>0.020183</td>\n",
       "      <td>0.011009</td>\n",
       "      <td>0.022018</td>\n",
       "      <td>0.016514</td>\n",
       "      <td>0.011009</td>\n",
       "      <td>0.016514</td>\n",
       "      <td>lncRNA</td>\n",
       "    </tr>\n",
       "    <tr>\n",
       "      <th>43297</th>\n",
       "      <td>1.464225e+09</td>\n",
       "      <td>509330.525959</td>\n",
       "      <td>5.791058e+12</td>\n",
       "      <td>182223.922129</td>\n",
       "      <td>0.000001</td>\n",
       "      <td>0.426379</td>\n",
       "      <td>7.874758e+10</td>\n",
       "      <td>7.875465e+10</td>\n",
       "      <td>270383.046721</td>\n",
       "      <td>302127.878063</td>\n",
       "      <td>...</td>\n",
       "      <td>0.021927</td>\n",
       "      <td>0.024083</td>\n",
       "      <td>0.016535</td>\n",
       "      <td>0.019410</td>\n",
       "      <td>0.016894</td>\n",
       "      <td>0.017434</td>\n",
       "      <td>0.018692</td>\n",
       "      <td>0.017793</td>\n",
       "      <td>0.029475</td>\n",
       "      <td>mRNA</td>\n",
       "    </tr>\n",
       "    <tr>\n",
       "      <th>...</th>\n",
       "      <td>...</td>\n",
       "      <td>...</td>\n",
       "      <td>...</td>\n",
       "      <td>...</td>\n",
       "      <td>...</td>\n",
       "      <td>...</td>\n",
       "      <td>...</td>\n",
       "      <td>...</td>\n",
       "      <td>...</td>\n",
       "      <td>...</td>\n",
       "      <td>...</td>\n",
       "      <td>...</td>\n",
       "      <td>...</td>\n",
       "      <td>...</td>\n",
       "      <td>...</td>\n",
       "      <td>...</td>\n",
       "      <td>...</td>\n",
       "      <td>...</td>\n",
       "      <td>...</td>\n",
       "      <td>...</td>\n",
       "      <td>...</td>\n",
       "    </tr>\n",
       "    <tr>\n",
       "      <th>22167</th>\n",
       "      <td>8.254050e+05</td>\n",
       "      <td>1965.924891</td>\n",
       "      <td>3.993825e+08</td>\n",
       "      <td>113.955521</td>\n",
       "      <td>0.000235</td>\n",
       "      <td>0.816217</td>\n",
       "      <td>1.659777e+07</td>\n",
       "      <td>1.661207e+07</td>\n",
       "      <td>873.290101</td>\n",
       "      <td>1102.712706</td>\n",
       "      <td>...</td>\n",
       "      <td>0.034542</td>\n",
       "      <td>0.015544</td>\n",
       "      <td>0.015544</td>\n",
       "      <td>0.020725</td>\n",
       "      <td>0.036269</td>\n",
       "      <td>0.012090</td>\n",
       "      <td>0.024180</td>\n",
       "      <td>0.008636</td>\n",
       "      <td>0.012090</td>\n",
       "      <td>lncRNA</td>\n",
       "    </tr>\n",
       "    <tr>\n",
       "      <th>47707</th>\n",
       "      <td>9.703611e+06</td>\n",
       "      <td>19223.418185</td>\n",
       "      <td>5.690126e+09</td>\n",
       "      <td>4709.500464</td>\n",
       "      <td>0.000027</td>\n",
       "      <td>0.340730</td>\n",
       "      <td>2.044237e+08</td>\n",
       "      <td>2.045525e+08</td>\n",
       "      <td>10971.058190</td>\n",
       "      <td>12572.517320</td>\n",
       "      <td>...</td>\n",
       "      <td>0.022727</td>\n",
       "      <td>0.025253</td>\n",
       "      <td>0.008838</td>\n",
       "      <td>0.017677</td>\n",
       "      <td>0.016414</td>\n",
       "      <td>0.020202</td>\n",
       "      <td>0.018939</td>\n",
       "      <td>0.017677</td>\n",
       "      <td>0.027778</td>\n",
       "      <td>lncRNA</td>\n",
       "    </tr>\n",
       "    <tr>\n",
       "      <th>6519</th>\n",
       "      <td>7.514135e+07</td>\n",
       "      <td>56782.370534</td>\n",
       "      <td>9.899371e+10</td>\n",
       "      <td>16759.943452</td>\n",
       "      <td>0.000010</td>\n",
       "      <td>0.531469</td>\n",
       "      <td>2.179226e+09</td>\n",
       "      <td>2.179689e+09</td>\n",
       "      <td>30109.076603</td>\n",
       "      <td>34807.357837</td>\n",
       "      <td>...</td>\n",
       "      <td>0.022949</td>\n",
       "      <td>0.022524</td>\n",
       "      <td>0.019550</td>\n",
       "      <td>0.018275</td>\n",
       "      <td>0.019550</td>\n",
       "      <td>0.013600</td>\n",
       "      <td>0.024224</td>\n",
       "      <td>0.021674</td>\n",
       "      <td>0.040374</td>\n",
       "      <td>lncRNA</td>\n",
       "    </tr>\n",
       "    <tr>\n",
       "      <th>67149</th>\n",
       "      <td>1.487930e+07</td>\n",
       "      <td>22189.119384</td>\n",
       "      <td>1.031065e+10</td>\n",
       "      <td>5333.146992</td>\n",
       "      <td>0.000023</td>\n",
       "      <td>0.397254</td>\n",
       "      <td>3.311770e+08</td>\n",
       "      <td>3.313397e+08</td>\n",
       "      <td>11622.033225</td>\n",
       "      <td>13814.667542</td>\n",
       "      <td>...</td>\n",
       "      <td>0.009843</td>\n",
       "      <td>0.017717</td>\n",
       "      <td>0.015748</td>\n",
       "      <td>0.025591</td>\n",
       "      <td>0.017717</td>\n",
       "      <td>0.003937</td>\n",
       "      <td>0.009843</td>\n",
       "      <td>0.004921</td>\n",
       "      <td>0.002953</td>\n",
       "      <td>mRNA</td>\n",
       "    </tr>\n",
       "    <tr>\n",
       "      <th>27545</th>\n",
       "      <td>3.503660e+08</td>\n",
       "      <td>123251.720087</td>\n",
       "      <td>9.123587e+11</td>\n",
       "      <td>35714.541270</td>\n",
       "      <td>0.000003</td>\n",
       "      <td>0.453903</td>\n",
       "      <td>1.623954e+10</td>\n",
       "      <td>1.624209e+10</td>\n",
       "      <td>64635.433547</td>\n",
       "      <td>73906.836942</td>\n",
       "      <td>...</td>\n",
       "      <td>0.022949</td>\n",
       "      <td>0.016033</td>\n",
       "      <td>0.020119</td>\n",
       "      <td>0.023263</td>\n",
       "      <td>0.015718</td>\n",
       "      <td>0.005659</td>\n",
       "      <td>0.016347</td>\n",
       "      <td>0.012260</td>\n",
       "      <td>0.012575</td>\n",
       "      <td>mRNA</td>\n",
       "    </tr>\n",
       "  </tbody>\n",
       "</table>\n",
       "<p>68111 rows × 104 columns</p>\n",
       "</div>"
      ],
      "text/plain": [
       "            average         median       maximum        minimum      peak  \\\n",
       "33328  3.039960e+06    6539.158630  1.335839e+09    1824.159604  0.000061   \n",
       "32243  1.840331e+08  145796.137831  2.936863e+11   33003.466973  0.000004   \n",
       "26147  3.837719e+06    5492.253437  1.966178e+09    1603.411739  0.000054   \n",
       "50650  4.849460e+05    1781.315155  1.930169e+08     153.181918  0.000376   \n",
       "43297  1.464225e+09  509330.525959  5.791058e+12  182223.922129  0.000001   \n",
       "...             ...            ...           ...            ...       ...   \n",
       "22167  8.254050e+05    1965.924891  3.993825e+08     113.955521  0.000235   \n",
       "47707  9.703611e+06   19223.418185  5.690126e+09    4709.500464  0.000027   \n",
       "6519   7.514135e+07   56782.370534  9.899371e+10   16759.943452  0.000010   \n",
       "67149  1.487930e+07   22189.119384  1.031065e+10    5333.146992  0.000023   \n",
       "27545  3.503660e+08  123251.720087  9.123587e+11   35714.541270  0.000003   \n",
       "\n",
       "       none_levated_peak  sample_standard_deviation  \\\n",
       "33328           0.393024               5.681438e+07   \n",
       "32243           0.279498               6.418536e+09   \n",
       "26147           0.493940               7.893571e+07   \n",
       "50650           0.851473               8.325298e+06   \n",
       "43297           0.426379               7.874758e+10   \n",
       "...                  ...                        ...   \n",
       "22167           0.816217               1.659777e+07   \n",
       "47707           0.340730               2.044237e+08   \n",
       "6519            0.531469               2.179226e+09   \n",
       "67149           0.397254               3.311770e+08   \n",
       "27545           0.453903               1.623954e+10   \n",
       "\n",
       "       population_standard_deviation   percentile15   percentile25  ...  \\\n",
       "33328                   5.686526e+07    3347.176655    3955.708715  ...   \n",
       "32243                   6.420042e+09   76546.918421   85591.297154  ...   \n",
       "26147                   7.899883e+07    2898.081874    3411.233946  ...   \n",
       "50650                   8.332918e+06     702.741496     942.960177  ...   \n",
       "43297                   7.875465e+10  270383.046721  302127.878063  ...   \n",
       "...                              ...            ...            ...  ...   \n",
       "22167                   1.661207e+07     873.290101    1102.712706  ...   \n",
       "47707                   2.045525e+08   10971.058190   12572.517320  ...   \n",
       "6519                    2.179689e+09   30109.076603   34807.357837  ...   \n",
       "67149                   3.313397e+08   11622.033225   13814.667542  ...   \n",
       "27545                   1.624209e+10   64635.433547   73906.836942  ...   \n",
       "\n",
       "            TCT       TGA       TGC       TGG       TGT       TTA       TTC  \\\n",
       "33328  0.010772  0.017953  0.008977  0.025135  0.010772  0.005386  0.010772   \n",
       "32243  0.010329  0.018779  0.011268  0.015493  0.024883  0.017371  0.020657   \n",
       "26147  0.017628  0.033654  0.017628  0.012821  0.012821  0.008013  0.016026   \n",
       "50650  0.014679  0.033028  0.012844  0.020183  0.011009  0.022018  0.016514   \n",
       "43297  0.021927  0.024083  0.016535  0.019410  0.016894  0.017434  0.018692   \n",
       "...         ...       ...       ...       ...       ...       ...       ...   \n",
       "22167  0.034542  0.015544  0.015544  0.020725  0.036269  0.012090  0.024180   \n",
       "47707  0.022727  0.025253  0.008838  0.017677  0.016414  0.020202  0.018939   \n",
       "6519   0.022949  0.022524  0.019550  0.018275  0.019550  0.013600  0.024224   \n",
       "67149  0.009843  0.017717  0.015748  0.025591  0.017717  0.003937  0.009843   \n",
       "27545  0.022949  0.016033  0.020119  0.023263  0.015718  0.005659  0.016347   \n",
       "\n",
       "            TTG       TTT   label  \n",
       "33328  0.008977  0.012567    mRNA  \n",
       "32243  0.014085  0.015493    mRNA  \n",
       "26147  0.011218  0.004808    mRNA  \n",
       "50650  0.011009  0.016514  lncRNA  \n",
       "43297  0.017793  0.029475    mRNA  \n",
       "...         ...       ...     ...  \n",
       "22167  0.008636  0.012090  lncRNA  \n",
       "47707  0.017677  0.027778  lncRNA  \n",
       "6519   0.021674  0.040374  lncRNA  \n",
       "67149  0.004921  0.002953    mRNA  \n",
       "27545  0.012260  0.012575    mRNA  \n",
       "\n",
       "[68111 rows x 104 columns]"
      ]
     },
     "metadata": {},
     "output_type": "display_data"
    }
   ],
   "source": [
    "display(dadosTreino)"
   ]
  },
  {
   "cell_type": "markdown",
   "id": "54135fd6",
   "metadata": {},
   "source": [
    "## Normalização dos dados treino"
   ]
  },
  {
   "cell_type": "code",
   "execution_count": 14,
   "id": "efaa7c9b",
   "metadata": {},
   "outputs": [],
   "source": [
    "#Transform categorical in binary class values\n",
    "dicionario = {'mRNA':0,'lncRNA':1}\n",
    "dadosTreino['label'] = dadosTreino['label'].map(dicionario) "
   ]
  },
  {
   "cell_type": "code",
   "execution_count": 15,
   "id": "bc056ba7",
   "metadata": {
    "scrolled": true
   },
   "outputs": [
    {
     "data": {
      "text/html": [
       "<div>\n",
       "<style scoped>\n",
       "    .dataframe tbody tr th:only-of-type {\n",
       "        vertical-align: middle;\n",
       "    }\n",
       "\n",
       "    .dataframe tbody tr th {\n",
       "        vertical-align: top;\n",
       "    }\n",
       "\n",
       "    .dataframe thead th {\n",
       "        text-align: right;\n",
       "    }\n",
       "</style>\n",
       "<table border=\"1\" class=\"dataframe\">\n",
       "  <thead>\n",
       "    <tr style=\"text-align: right;\">\n",
       "      <th></th>\n",
       "      <th>average</th>\n",
       "      <th>median</th>\n",
       "      <th>maximum</th>\n",
       "      <th>minimum</th>\n",
       "      <th>peak</th>\n",
       "      <th>none_levated_peak</th>\n",
       "      <th>sample_standard_deviation</th>\n",
       "      <th>population_standard_deviation</th>\n",
       "      <th>percentile15</th>\n",
       "      <th>percentile25</th>\n",
       "      <th>...</th>\n",
       "      <th>TCT</th>\n",
       "      <th>TGA</th>\n",
       "      <th>TGC</th>\n",
       "      <th>TGG</th>\n",
       "      <th>TGT</th>\n",
       "      <th>TTA</th>\n",
       "      <th>TTC</th>\n",
       "      <th>TTG</th>\n",
       "      <th>TTT</th>\n",
       "      <th>label</th>\n",
       "    </tr>\n",
       "  </thead>\n",
       "  <tbody>\n",
       "    <tr>\n",
       "      <th>33328</th>\n",
       "      <td>3.039960e+06</td>\n",
       "      <td>6539.158630</td>\n",
       "      <td>1.335839e+09</td>\n",
       "      <td>1824.159604</td>\n",
       "      <td>0.000061</td>\n",
       "      <td>0.393024</td>\n",
       "      <td>5.681438e+07</td>\n",
       "      <td>5.686526e+07</td>\n",
       "      <td>3347.176655</td>\n",
       "      <td>3955.708715</td>\n",
       "      <td>...</td>\n",
       "      <td>0.010772</td>\n",
       "      <td>0.017953</td>\n",
       "      <td>0.008977</td>\n",
       "      <td>0.025135</td>\n",
       "      <td>0.010772</td>\n",
       "      <td>0.005386</td>\n",
       "      <td>0.010772</td>\n",
       "      <td>0.008977</td>\n",
       "      <td>0.012567</td>\n",
       "      <td>0</td>\n",
       "    </tr>\n",
       "    <tr>\n",
       "      <th>32243</th>\n",
       "      <td>1.840331e+08</td>\n",
       "      <td>145796.137831</td>\n",
       "      <td>2.936863e+11</td>\n",
       "      <td>33003.466973</td>\n",
       "      <td>0.000004</td>\n",
       "      <td>0.279498</td>\n",
       "      <td>6.418536e+09</td>\n",
       "      <td>6.420042e+09</td>\n",
       "      <td>76546.918421</td>\n",
       "      <td>85591.297154</td>\n",
       "      <td>...</td>\n",
       "      <td>0.010329</td>\n",
       "      <td>0.018779</td>\n",
       "      <td>0.011268</td>\n",
       "      <td>0.015493</td>\n",
       "      <td>0.024883</td>\n",
       "      <td>0.017371</td>\n",
       "      <td>0.020657</td>\n",
       "      <td>0.014085</td>\n",
       "      <td>0.015493</td>\n",
       "      <td>0</td>\n",
       "    </tr>\n",
       "    <tr>\n",
       "      <th>26147</th>\n",
       "      <td>3.837719e+06</td>\n",
       "      <td>5492.253437</td>\n",
       "      <td>1.966178e+09</td>\n",
       "      <td>1603.411739</td>\n",
       "      <td>0.000054</td>\n",
       "      <td>0.493940</td>\n",
       "      <td>7.893571e+07</td>\n",
       "      <td>7.899883e+07</td>\n",
       "      <td>2898.081874</td>\n",
       "      <td>3411.233946</td>\n",
       "      <td>...</td>\n",
       "      <td>0.017628</td>\n",
       "      <td>0.033654</td>\n",
       "      <td>0.017628</td>\n",
       "      <td>0.012821</td>\n",
       "      <td>0.012821</td>\n",
       "      <td>0.008013</td>\n",
       "      <td>0.016026</td>\n",
       "      <td>0.011218</td>\n",
       "      <td>0.004808</td>\n",
       "      <td>0</td>\n",
       "    </tr>\n",
       "    <tr>\n",
       "      <th>50650</th>\n",
       "      <td>4.849460e+05</td>\n",
       "      <td>1781.315155</td>\n",
       "      <td>1.930169e+08</td>\n",
       "      <td>153.181918</td>\n",
       "      <td>0.000376</td>\n",
       "      <td>0.851473</td>\n",
       "      <td>8.325298e+06</td>\n",
       "      <td>8.332918e+06</td>\n",
       "      <td>702.741496</td>\n",
       "      <td>942.960177</td>\n",
       "      <td>...</td>\n",
       "      <td>0.014679</td>\n",
       "      <td>0.033028</td>\n",
       "      <td>0.012844</td>\n",
       "      <td>0.020183</td>\n",
       "      <td>0.011009</td>\n",
       "      <td>0.022018</td>\n",
       "      <td>0.016514</td>\n",
       "      <td>0.011009</td>\n",
       "      <td>0.016514</td>\n",
       "      <td>1</td>\n",
       "    </tr>\n",
       "    <tr>\n",
       "      <th>43297</th>\n",
       "      <td>1.464225e+09</td>\n",
       "      <td>509330.525959</td>\n",
       "      <td>5.791058e+12</td>\n",
       "      <td>182223.922129</td>\n",
       "      <td>0.000001</td>\n",
       "      <td>0.426379</td>\n",
       "      <td>7.874758e+10</td>\n",
       "      <td>7.875465e+10</td>\n",
       "      <td>270383.046721</td>\n",
       "      <td>302127.878063</td>\n",
       "      <td>...</td>\n",
       "      <td>0.021927</td>\n",
       "      <td>0.024083</td>\n",
       "      <td>0.016535</td>\n",
       "      <td>0.019410</td>\n",
       "      <td>0.016894</td>\n",
       "      <td>0.017434</td>\n",
       "      <td>0.018692</td>\n",
       "      <td>0.017793</td>\n",
       "      <td>0.029475</td>\n",
       "      <td>0</td>\n",
       "    </tr>\n",
       "    <tr>\n",
       "      <th>...</th>\n",
       "      <td>...</td>\n",
       "      <td>...</td>\n",
       "      <td>...</td>\n",
       "      <td>...</td>\n",
       "      <td>...</td>\n",
       "      <td>...</td>\n",
       "      <td>...</td>\n",
       "      <td>...</td>\n",
       "      <td>...</td>\n",
       "      <td>...</td>\n",
       "      <td>...</td>\n",
       "      <td>...</td>\n",
       "      <td>...</td>\n",
       "      <td>...</td>\n",
       "      <td>...</td>\n",
       "      <td>...</td>\n",
       "      <td>...</td>\n",
       "      <td>...</td>\n",
       "      <td>...</td>\n",
       "      <td>...</td>\n",
       "      <td>...</td>\n",
       "    </tr>\n",
       "    <tr>\n",
       "      <th>22167</th>\n",
       "      <td>8.254050e+05</td>\n",
       "      <td>1965.924891</td>\n",
       "      <td>3.993825e+08</td>\n",
       "      <td>113.955521</td>\n",
       "      <td>0.000235</td>\n",
       "      <td>0.816217</td>\n",
       "      <td>1.659777e+07</td>\n",
       "      <td>1.661207e+07</td>\n",
       "      <td>873.290101</td>\n",
       "      <td>1102.712706</td>\n",
       "      <td>...</td>\n",
       "      <td>0.034542</td>\n",
       "      <td>0.015544</td>\n",
       "      <td>0.015544</td>\n",
       "      <td>0.020725</td>\n",
       "      <td>0.036269</td>\n",
       "      <td>0.012090</td>\n",
       "      <td>0.024180</td>\n",
       "      <td>0.008636</td>\n",
       "      <td>0.012090</td>\n",
       "      <td>1</td>\n",
       "    </tr>\n",
       "    <tr>\n",
       "      <th>47707</th>\n",
       "      <td>9.703611e+06</td>\n",
       "      <td>19223.418185</td>\n",
       "      <td>5.690126e+09</td>\n",
       "      <td>4709.500464</td>\n",
       "      <td>0.000027</td>\n",
       "      <td>0.340730</td>\n",
       "      <td>2.044237e+08</td>\n",
       "      <td>2.045525e+08</td>\n",
       "      <td>10971.058190</td>\n",
       "      <td>12572.517320</td>\n",
       "      <td>...</td>\n",
       "      <td>0.022727</td>\n",
       "      <td>0.025253</td>\n",
       "      <td>0.008838</td>\n",
       "      <td>0.017677</td>\n",
       "      <td>0.016414</td>\n",
       "      <td>0.020202</td>\n",
       "      <td>0.018939</td>\n",
       "      <td>0.017677</td>\n",
       "      <td>0.027778</td>\n",
       "      <td>1</td>\n",
       "    </tr>\n",
       "    <tr>\n",
       "      <th>6519</th>\n",
       "      <td>7.514135e+07</td>\n",
       "      <td>56782.370534</td>\n",
       "      <td>9.899371e+10</td>\n",
       "      <td>16759.943452</td>\n",
       "      <td>0.000010</td>\n",
       "      <td>0.531469</td>\n",
       "      <td>2.179226e+09</td>\n",
       "      <td>2.179689e+09</td>\n",
       "      <td>30109.076603</td>\n",
       "      <td>34807.357837</td>\n",
       "      <td>...</td>\n",
       "      <td>0.022949</td>\n",
       "      <td>0.022524</td>\n",
       "      <td>0.019550</td>\n",
       "      <td>0.018275</td>\n",
       "      <td>0.019550</td>\n",
       "      <td>0.013600</td>\n",
       "      <td>0.024224</td>\n",
       "      <td>0.021674</td>\n",
       "      <td>0.040374</td>\n",
       "      <td>1</td>\n",
       "    </tr>\n",
       "    <tr>\n",
       "      <th>67149</th>\n",
       "      <td>1.487930e+07</td>\n",
       "      <td>22189.119384</td>\n",
       "      <td>1.031065e+10</td>\n",
       "      <td>5333.146992</td>\n",
       "      <td>0.000023</td>\n",
       "      <td>0.397254</td>\n",
       "      <td>3.311770e+08</td>\n",
       "      <td>3.313397e+08</td>\n",
       "      <td>11622.033225</td>\n",
       "      <td>13814.667542</td>\n",
       "      <td>...</td>\n",
       "      <td>0.009843</td>\n",
       "      <td>0.017717</td>\n",
       "      <td>0.015748</td>\n",
       "      <td>0.025591</td>\n",
       "      <td>0.017717</td>\n",
       "      <td>0.003937</td>\n",
       "      <td>0.009843</td>\n",
       "      <td>0.004921</td>\n",
       "      <td>0.002953</td>\n",
       "      <td>0</td>\n",
       "    </tr>\n",
       "    <tr>\n",
       "      <th>27545</th>\n",
       "      <td>3.503660e+08</td>\n",
       "      <td>123251.720087</td>\n",
       "      <td>9.123587e+11</td>\n",
       "      <td>35714.541270</td>\n",
       "      <td>0.000003</td>\n",
       "      <td>0.453903</td>\n",
       "      <td>1.623954e+10</td>\n",
       "      <td>1.624209e+10</td>\n",
       "      <td>64635.433547</td>\n",
       "      <td>73906.836942</td>\n",
       "      <td>...</td>\n",
       "      <td>0.022949</td>\n",
       "      <td>0.016033</td>\n",
       "      <td>0.020119</td>\n",
       "      <td>0.023263</td>\n",
       "      <td>0.015718</td>\n",
       "      <td>0.005659</td>\n",
       "      <td>0.016347</td>\n",
       "      <td>0.012260</td>\n",
       "      <td>0.012575</td>\n",
       "      <td>0</td>\n",
       "    </tr>\n",
       "  </tbody>\n",
       "</table>\n",
       "<p>68111 rows × 104 columns</p>\n",
       "</div>"
      ],
      "text/plain": [
       "            average         median       maximum        minimum      peak  \\\n",
       "33328  3.039960e+06    6539.158630  1.335839e+09    1824.159604  0.000061   \n",
       "32243  1.840331e+08  145796.137831  2.936863e+11   33003.466973  0.000004   \n",
       "26147  3.837719e+06    5492.253437  1.966178e+09    1603.411739  0.000054   \n",
       "50650  4.849460e+05    1781.315155  1.930169e+08     153.181918  0.000376   \n",
       "43297  1.464225e+09  509330.525959  5.791058e+12  182223.922129  0.000001   \n",
       "...             ...            ...           ...            ...       ...   \n",
       "22167  8.254050e+05    1965.924891  3.993825e+08     113.955521  0.000235   \n",
       "47707  9.703611e+06   19223.418185  5.690126e+09    4709.500464  0.000027   \n",
       "6519   7.514135e+07   56782.370534  9.899371e+10   16759.943452  0.000010   \n",
       "67149  1.487930e+07   22189.119384  1.031065e+10    5333.146992  0.000023   \n",
       "27545  3.503660e+08  123251.720087  9.123587e+11   35714.541270  0.000003   \n",
       "\n",
       "       none_levated_peak  sample_standard_deviation  \\\n",
       "33328           0.393024               5.681438e+07   \n",
       "32243           0.279498               6.418536e+09   \n",
       "26147           0.493940               7.893571e+07   \n",
       "50650           0.851473               8.325298e+06   \n",
       "43297           0.426379               7.874758e+10   \n",
       "...                  ...                        ...   \n",
       "22167           0.816217               1.659777e+07   \n",
       "47707           0.340730               2.044237e+08   \n",
       "6519            0.531469               2.179226e+09   \n",
       "67149           0.397254               3.311770e+08   \n",
       "27545           0.453903               1.623954e+10   \n",
       "\n",
       "       population_standard_deviation   percentile15   percentile25  ...  \\\n",
       "33328                   5.686526e+07    3347.176655    3955.708715  ...   \n",
       "32243                   6.420042e+09   76546.918421   85591.297154  ...   \n",
       "26147                   7.899883e+07    2898.081874    3411.233946  ...   \n",
       "50650                   8.332918e+06     702.741496     942.960177  ...   \n",
       "43297                   7.875465e+10  270383.046721  302127.878063  ...   \n",
       "...                              ...            ...            ...  ...   \n",
       "22167                   1.661207e+07     873.290101    1102.712706  ...   \n",
       "47707                   2.045525e+08   10971.058190   12572.517320  ...   \n",
       "6519                    2.179689e+09   30109.076603   34807.357837  ...   \n",
       "67149                   3.313397e+08   11622.033225   13814.667542  ...   \n",
       "27545                   1.624209e+10   64635.433547   73906.836942  ...   \n",
       "\n",
       "            TCT       TGA       TGC       TGG       TGT       TTA       TTC  \\\n",
       "33328  0.010772  0.017953  0.008977  0.025135  0.010772  0.005386  0.010772   \n",
       "32243  0.010329  0.018779  0.011268  0.015493  0.024883  0.017371  0.020657   \n",
       "26147  0.017628  0.033654  0.017628  0.012821  0.012821  0.008013  0.016026   \n",
       "50650  0.014679  0.033028  0.012844  0.020183  0.011009  0.022018  0.016514   \n",
       "43297  0.021927  0.024083  0.016535  0.019410  0.016894  0.017434  0.018692   \n",
       "...         ...       ...       ...       ...       ...       ...       ...   \n",
       "22167  0.034542  0.015544  0.015544  0.020725  0.036269  0.012090  0.024180   \n",
       "47707  0.022727  0.025253  0.008838  0.017677  0.016414  0.020202  0.018939   \n",
       "6519   0.022949  0.022524  0.019550  0.018275  0.019550  0.013600  0.024224   \n",
       "67149  0.009843  0.017717  0.015748  0.025591  0.017717  0.003937  0.009843   \n",
       "27545  0.022949  0.016033  0.020119  0.023263  0.015718  0.005659  0.016347   \n",
       "\n",
       "            TTG       TTT  label  \n",
       "33328  0.008977  0.012567      0  \n",
       "32243  0.014085  0.015493      0  \n",
       "26147  0.011218  0.004808      0  \n",
       "50650  0.011009  0.016514      1  \n",
       "43297  0.017793  0.029475      0  \n",
       "...         ...       ...    ...  \n",
       "22167  0.008636  0.012090      1  \n",
       "47707  0.017677  0.027778      1  \n",
       "6519   0.021674  0.040374      1  \n",
       "67149  0.004921  0.002953      0  \n",
       "27545  0.012260  0.012575      0  \n",
       "\n",
       "[68111 rows x 104 columns]"
      ]
     },
     "execution_count": 15,
     "metadata": {},
     "output_type": "execute_result"
    }
   ],
   "source": [
    "dadosTreino"
   ]
  },
  {
   "cell_type": "code",
   "execution_count": 16,
   "id": "92c86fd5",
   "metadata": {},
   "outputs": [],
   "source": [
    "dadosTreino.iloc[:,17:]\n",
    "X = dadosTreino.iloc[:,17:]"
   ]
  },
  {
   "cell_type": "code",
   "execution_count": 17,
   "id": "c76595a6",
   "metadata": {},
   "outputs": [],
   "source": [
    "#Divide a base entre os previsores e classe\n",
    "colunas = X.columns.drop('label')"
   ]
  },
  {
   "cell_type": "code",
   "execution_count": 18,
   "id": "e0762a71",
   "metadata": {},
   "outputs": [
    {
     "data": {
      "text/plain": [
       "Index(['skewness', 'kurtosis', 'A', 'C', 'G', 'T', 'AA', 'AC', 'AG', 'AT',\n",
       "       'CA', 'CC', 'CG', 'CT', 'GA', 'GC', 'GG', 'GT', 'TA', 'TC', 'TG', 'TT',\n",
       "       'AAA', 'AAC', 'AAG', 'AAT', 'ACA', 'ACC', 'ACG', 'ACT', 'AGA', 'AGC',\n",
       "       'AGG', 'AGT', 'ATA', 'ATC', 'ATG', 'ATT', 'CAA', 'CAC', 'CAG', 'CAT',\n",
       "       'CCA', 'CCC', 'CCG', 'CCT', 'CGA', 'CGC', 'CGG', 'CGT', 'CTA', 'CTC',\n",
       "       'CTG', 'CTT', 'GAA', 'GAC', 'GAG', 'GAT', 'GCA', 'GCC', 'GCG', 'GCT',\n",
       "       'GGA', 'GGC', 'GGG', 'GGT', 'GTA', 'GTC', 'GTG', 'GTT', 'TAA', 'TAC',\n",
       "       'TAG', 'TAT', 'TCA', 'TCC', 'TCG', 'TCT', 'TGA', 'TGC', 'TGG', 'TGT',\n",
       "       'TTA', 'TTC', 'TTG', 'TTT'],\n",
       "      dtype='object')"
      ]
     },
     "execution_count": 18,
     "metadata": {},
     "output_type": "execute_result"
    }
   ],
   "source": [
    "colunas"
   ]
  },
  {
   "cell_type": "code",
   "execution_count": 19,
   "id": "4af6da31",
   "metadata": {},
   "outputs": [],
   "source": [
    "# Gera os previsores e classe (X e y)\n",
    "X = X[colunas].values\n",
    "y = dadosTreino['label']"
   ]
  },
  {
   "cell_type": "code",
   "execution_count": 20,
   "id": "96d53aaf",
   "metadata": {},
   "outputs": [
    {
     "data": {
      "text/plain": [
       "array([[0.16017535, 0.06497241, 0.24329159, ..., 0.01077199, 0.00897666,\n",
       "        0.01256732],\n",
       "       [0.08594825, 0.06813875, 0.34990619, ..., 0.02065728, 0.01408451,\n",
       "        0.01549296],\n",
       "       [0.14564613, 0.10248693, 0.2971246 , ..., 0.01602564, 0.01121795,\n",
       "        0.00480769],\n",
       "       ...,\n",
       "       [0.10336409, 0.07380143, 0.27218684, ..., 0.02422439, 0.02167446,\n",
       "        0.04037399],\n",
       "       [0.13458463, 0.07412187, 0.2151277 , ..., 0.00984252, 0.00492126,\n",
       "        0.00295276],\n",
       "       [0.06470184, 0.07028633, 0.21143575, ..., 0.01634706, 0.0122603 ,\n",
       "        0.01257466]])"
      ]
     },
     "execution_count": 20,
     "metadata": {},
     "output_type": "execute_result"
    }
   ],
   "source": [
    "X"
   ]
  },
  {
   "cell_type": "markdown",
   "id": "4dc8bfca",
   "metadata": {},
   "source": [
    "## Dados de Teste"
   ]
  },
  {
   "cell_type": "code",
   "execution_count": 21,
   "id": "de1e0fb4",
   "metadata": {},
   "outputs": [],
   "source": [
    "# carrega a base de dados teste lncRNA e mRNA\n",
    "lncRNA_data_t = pandas.read_csv('basesHumano/lncRNA_test.csv')\n",
    "mRNA_data_t = pandas.read_csv('basesHumano/mRNA_test.csv')\n",
    "dadosTeste = pandas.concat([lncRNA_data_t,mRNA_data_t])"
   ]
  },
  {
   "cell_type": "code",
   "execution_count": 22,
   "id": "cd0760bf",
   "metadata": {},
   "outputs": [
    {
     "data": {
      "text/html": [
       "<div>\n",
       "<style scoped>\n",
       "    .dataframe tbody tr th:only-of-type {\n",
       "        vertical-align: middle;\n",
       "    }\n",
       "\n",
       "    .dataframe tbody tr th {\n",
       "        vertical-align: top;\n",
       "    }\n",
       "\n",
       "    .dataframe thead th {\n",
       "        text-align: right;\n",
       "    }\n",
       "</style>\n",
       "<table border=\"1\" class=\"dataframe\">\n",
       "  <thead>\n",
       "    <tr style=\"text-align: right;\">\n",
       "      <th></th>\n",
       "      <th>nameseq</th>\n",
       "      <th>average</th>\n",
       "      <th>median</th>\n",
       "      <th>maximum</th>\n",
       "      <th>minimum</th>\n",
       "      <th>peak</th>\n",
       "      <th>none_levated_peak</th>\n",
       "      <th>sample_standard_deviation</th>\n",
       "      <th>population_standard_deviation</th>\n",
       "      <th>percentile15</th>\n",
       "      <th>...</th>\n",
       "      <th>TCT</th>\n",
       "      <th>TGA</th>\n",
       "      <th>TGC</th>\n",
       "      <th>TGG</th>\n",
       "      <th>TGT</th>\n",
       "      <th>TTA</th>\n",
       "      <th>TTC</th>\n",
       "      <th>TTG</th>\n",
       "      <th>TTT</th>\n",
       "      <th>label</th>\n",
       "    </tr>\n",
       "  </thead>\n",
       "  <tbody>\n",
       "    <tr>\n",
       "      <th>0</th>\n",
       "      <td>ENST00000604104.1|ENSG00000271155.1|OTTHUMG000...</td>\n",
       "      <td>8.015841e+07</td>\n",
       "      <td>61810.207637</td>\n",
       "      <td>8.771084e+10</td>\n",
       "      <td>20298.789312</td>\n",
       "      <td>5.830122e-06</td>\n",
       "      <td>0.339144</td>\n",
       "      <td>2.361997e+09</td>\n",
       "      <td>2.362839e+09</td>\n",
       "      <td>32616.386506</td>\n",
       "      <td>...</td>\n",
       "      <td>0.011429</td>\n",
       "      <td>0.009286</td>\n",
       "      <td>0.011429</td>\n",
       "      <td>0.017857</td>\n",
       "      <td>0.005000</td>\n",
       "      <td>0.006429</td>\n",
       "      <td>0.015000</td>\n",
       "      <td>0.006429</td>\n",
       "      <td>0.021429</td>\n",
       "      <td>lncRNA</td>\n",
       "    </tr>\n",
       "    <tr>\n",
       "      <th>1</th>\n",
       "      <td>ENST00000667983.1|ENSG00000237877.7|OTTHUMG000...</td>\n",
       "      <td>2.024978e+08</td>\n",
       "      <td>159880.344582</td>\n",
       "      <td>2.497567e+11</td>\n",
       "      <td>64352.329843</td>\n",
       "      <td>2.630481e-06</td>\n",
       "      <td>0.219435</td>\n",
       "      <td>6.302332e+09</td>\n",
       "      <td>6.304305e+09</td>\n",
       "      <td>85474.162174</td>\n",
       "      <td>...</td>\n",
       "      <td>0.016917</td>\n",
       "      <td>0.033835</td>\n",
       "      <td>0.008145</td>\n",
       "      <td>0.016917</td>\n",
       "      <td>0.016917</td>\n",
       "      <td>0.023810</td>\n",
       "      <td>0.015038</td>\n",
       "      <td>0.026316</td>\n",
       "      <td>0.034461</td>\n",
       "      <td>lncRNA</td>\n",
       "    </tr>\n",
       "    <tr>\n",
       "      <th>2</th>\n",
       "      <td>ENST00000449214.1|ENSG00000223662.1|OTTHUMG000...</td>\n",
       "      <td>7.410836e+06</td>\n",
       "      <td>18378.070778</td>\n",
       "      <td>4.225395e+09</td>\n",
       "      <td>5077.009113</td>\n",
       "      <td>3.778251e-05</td>\n",
       "      <td>0.413280</td>\n",
       "      <td>1.483970e+08</td>\n",
       "      <td>1.484854e+08</td>\n",
       "      <td>8860.171322</td>\n",
       "      <td>...</td>\n",
       "      <td>0.022673</td>\n",
       "      <td>0.033413</td>\n",
       "      <td>0.017900</td>\n",
       "      <td>0.017900</td>\n",
       "      <td>0.014320</td>\n",
       "      <td>0.014320</td>\n",
       "      <td>0.021480</td>\n",
       "      <td>0.019093</td>\n",
       "      <td>0.028640</td>\n",
       "      <td>lncRNA</td>\n",
       "    </tr>\n",
       "    <tr>\n",
       "      <th>3</th>\n",
       "      <td>ENST00000597259.2|ENSG00000285122.1|OTTHUMG000...</td>\n",
       "      <td>2.370060e+05</td>\n",
       "      <td>1374.791616</td>\n",
       "      <td>3.496488e+07</td>\n",
       "      <td>227.401938</td>\n",
       "      <td>3.305120e-04</td>\n",
       "      <td>0.407107</td>\n",
       "      <td>2.379249e+06</td>\n",
       "      <td>2.384327e+06</td>\n",
       "      <td>697.213977</td>\n",
       "      <td>...</td>\n",
       "      <td>0.025751</td>\n",
       "      <td>0.012876</td>\n",
       "      <td>0.021459</td>\n",
       "      <td>0.012876</td>\n",
       "      <td>0.008584</td>\n",
       "      <td>0.008584</td>\n",
       "      <td>0.038627</td>\n",
       "      <td>0.008584</td>\n",
       "      <td>0.077253</td>\n",
       "      <td>lncRNA</td>\n",
       "    </tr>\n",
       "    <tr>\n",
       "      <th>4</th>\n",
       "      <td>ENST00000598474.4|ENSG00000242808.10|OTTHUMG00...</td>\n",
       "      <td>1.794096e+06</td>\n",
       "      <td>3237.023896</td>\n",
       "      <td>8.205260e+08</td>\n",
       "      <td>488.000000</td>\n",
       "      <td>9.512683e-05</td>\n",
       "      <td>0.532037</td>\n",
       "      <td>3.625012e+07</td>\n",
       "      <td>3.628557e+07</td>\n",
       "      <td>1321.777693</td>\n",
       "      <td>...</td>\n",
       "      <td>0.017647</td>\n",
       "      <td>0.031373</td>\n",
       "      <td>0.027451</td>\n",
       "      <td>0.041176</td>\n",
       "      <td>0.013725</td>\n",
       "      <td>0.001961</td>\n",
       "      <td>0.023529</td>\n",
       "      <td>0.019608</td>\n",
       "      <td>0.017647</td>\n",
       "      <td>lncRNA</td>\n",
       "    </tr>\n",
       "    <tr>\n",
       "      <th>...</th>\n",
       "      <td>...</td>\n",
       "      <td>...</td>\n",
       "      <td>...</td>\n",
       "      <td>...</td>\n",
       "      <td>...</td>\n",
       "      <td>...</td>\n",
       "      <td>...</td>\n",
       "      <td>...</td>\n",
       "      <td>...</td>\n",
       "      <td>...</td>\n",
       "      <td>...</td>\n",
       "      <td>...</td>\n",
       "      <td>...</td>\n",
       "      <td>...</td>\n",
       "      <td>...</td>\n",
       "      <td>...</td>\n",
       "      <td>...</td>\n",
       "      <td>...</td>\n",
       "      <td>...</td>\n",
       "      <td>...</td>\n",
       "      <td>...</td>\n",
       "    </tr>\n",
       "    <tr>\n",
       "      <th>29186</th>\n",
       "      <td>ENST00000510479.5|ENSG00000146067.16|OTTHUMG00...</td>\n",
       "      <td>3.525092e+08</td>\n",
       "      <td>157545.335044</td>\n",
       "      <td>6.597736e+11</td>\n",
       "      <td>47597.366504</td>\n",
       "      <td>2.647685e-06</td>\n",
       "      <td>0.349179</td>\n",
       "      <td>1.282317e+10</td>\n",
       "      <td>1.282546e+10</td>\n",
       "      <td>85426.766918</td>\n",
       "      <td>...</td>\n",
       "      <td>0.013939</td>\n",
       "      <td>0.017513</td>\n",
       "      <td>0.019299</td>\n",
       "      <td>0.022873</td>\n",
       "      <td>0.012866</td>\n",
       "      <td>0.001430</td>\n",
       "      <td>0.010722</td>\n",
       "      <td>0.009650</td>\n",
       "      <td>0.012152</td>\n",
       "      <td>mRNA</td>\n",
       "    </tr>\n",
       "    <tr>\n",
       "      <th>29187</th>\n",
       "      <td>ENST00000338555.6|ENSG00000162572.21|OTTHUMG00...</td>\n",
       "      <td>1.316129e+09</td>\n",
       "      <td>597729.793420</td>\n",
       "      <td>3.192544e+12</td>\n",
       "      <td>238214.775767</td>\n",
       "      <td>8.801065e-07</td>\n",
       "      <td>0.269619</td>\n",
       "      <td>5.518598e+10</td>\n",
       "      <td>5.519392e+10</td>\n",
       "      <td>318882.731883</td>\n",
       "      <td>...</td>\n",
       "      <td>0.015261</td>\n",
       "      <td>0.008926</td>\n",
       "      <td>0.027066</td>\n",
       "      <td>0.028218</td>\n",
       "      <td>0.011229</td>\n",
       "      <td>0.002591</td>\n",
       "      <td>0.010654</td>\n",
       "      <td>0.004607</td>\n",
       "      <td>0.004895</td>\n",
       "      <td>mRNA</td>\n",
       "    </tr>\n",
       "    <tr>\n",
       "      <th>29188</th>\n",
       "      <td>ENST00000269141.8|ENSG00000170558.10|OTTHUMG00...</td>\n",
       "      <td>2.219509e+08</td>\n",
       "      <td>166890.972936</td>\n",
       "      <td>3.501325e+11</td>\n",
       "      <td>47315.196632</td>\n",
       "      <td>6.031365e-06</td>\n",
       "      <td>0.569838</td>\n",
       "      <td>6.540161e+09</td>\n",
       "      <td>6.540975e+09</td>\n",
       "      <td>87521.209051</td>\n",
       "      <td>...</td>\n",
       "      <td>0.010962</td>\n",
       "      <td>0.025909</td>\n",
       "      <td>0.017190</td>\n",
       "      <td>0.021923</td>\n",
       "      <td>0.018435</td>\n",
       "      <td>0.019183</td>\n",
       "      <td>0.015197</td>\n",
       "      <td>0.019183</td>\n",
       "      <td>0.038366</td>\n",
       "      <td>mRNA</td>\n",
       "    </tr>\n",
       "    <tr>\n",
       "      <th>29189</th>\n",
       "      <td>ENST00000523574.5|ENSG00000010810.17|OTTHUMG00...</td>\n",
       "      <td>3.291510e+05</td>\n",
       "      <td>1328.513513</td>\n",
       "      <td>3.768579e+07</td>\n",
       "      <td>140.517781</td>\n",
       "      <td>5.762300e-04</td>\n",
       "      <td>0.897675</td>\n",
       "      <td>3.179329e+06</td>\n",
       "      <td>3.182126e+06</td>\n",
       "      <td>575.427308</td>\n",
       "      <td>...</td>\n",
       "      <td>0.015873</td>\n",
       "      <td>0.024691</td>\n",
       "      <td>0.010582</td>\n",
       "      <td>0.024691</td>\n",
       "      <td>0.026455</td>\n",
       "      <td>0.007055</td>\n",
       "      <td>0.010582</td>\n",
       "      <td>0.022928</td>\n",
       "      <td>0.022928</td>\n",
       "      <td>mRNA</td>\n",
       "    </tr>\n",
       "    <tr>\n",
       "      <th>29190</th>\n",
       "      <td>ENST00000464171.5|ENSG00000174891.14|OTTHUMG00...</td>\n",
       "      <td>3.302660e+08</td>\n",
       "      <td>188722.470110</td>\n",
       "      <td>5.367536e+11</td>\n",
       "      <td>67377.390013</td>\n",
       "      <td>2.433392e-06</td>\n",
       "      <td>0.295548</td>\n",
       "      <td>1.129309e+10</td>\n",
       "      <td>1.129543e+10</td>\n",
       "      <td>98122.332912</td>\n",
       "      <td>...</td>\n",
       "      <td>0.019510</td>\n",
       "      <td>0.019925</td>\n",
       "      <td>0.014529</td>\n",
       "      <td>0.012868</td>\n",
       "      <td>0.013284</td>\n",
       "      <td>0.019510</td>\n",
       "      <td>0.019510</td>\n",
       "      <td>0.016604</td>\n",
       "      <td>0.044832</td>\n",
       "      <td>mRNA</td>\n",
       "    </tr>\n",
       "  </tbody>\n",
       "</table>\n",
       "<p>58382 rows × 105 columns</p>\n",
       "</div>"
      ],
      "text/plain": [
       "                                                 nameseq       average  \\\n",
       "0      ENST00000604104.1|ENSG00000271155.1|OTTHUMG000...  8.015841e+07   \n",
       "1      ENST00000667983.1|ENSG00000237877.7|OTTHUMG000...  2.024978e+08   \n",
       "2      ENST00000449214.1|ENSG00000223662.1|OTTHUMG000...  7.410836e+06   \n",
       "3      ENST00000597259.2|ENSG00000285122.1|OTTHUMG000...  2.370060e+05   \n",
       "4      ENST00000598474.4|ENSG00000242808.10|OTTHUMG00...  1.794096e+06   \n",
       "...                                                  ...           ...   \n",
       "29186  ENST00000510479.5|ENSG00000146067.16|OTTHUMG00...  3.525092e+08   \n",
       "29187  ENST00000338555.6|ENSG00000162572.21|OTTHUMG00...  1.316129e+09   \n",
       "29188  ENST00000269141.8|ENSG00000170558.10|OTTHUMG00...  2.219509e+08   \n",
       "29189  ENST00000523574.5|ENSG00000010810.17|OTTHUMG00...  3.291510e+05   \n",
       "29190  ENST00000464171.5|ENSG00000174891.14|OTTHUMG00...  3.302660e+08   \n",
       "\n",
       "              median       maximum        minimum          peak  \\\n",
       "0       61810.207637  8.771084e+10   20298.789312  5.830122e-06   \n",
       "1      159880.344582  2.497567e+11   64352.329843  2.630481e-06   \n",
       "2       18378.070778  4.225395e+09    5077.009113  3.778251e-05   \n",
       "3        1374.791616  3.496488e+07     227.401938  3.305120e-04   \n",
       "4        3237.023896  8.205260e+08     488.000000  9.512683e-05   \n",
       "...              ...           ...            ...           ...   \n",
       "29186  157545.335044  6.597736e+11   47597.366504  2.647685e-06   \n",
       "29187  597729.793420  3.192544e+12  238214.775767  8.801065e-07   \n",
       "29188  166890.972936  3.501325e+11   47315.196632  6.031365e-06   \n",
       "29189    1328.513513  3.768579e+07     140.517781  5.762300e-04   \n",
       "29190  188722.470110  5.367536e+11   67377.390013  2.433392e-06   \n",
       "\n",
       "       none_levated_peak  sample_standard_deviation  \\\n",
       "0               0.339144               2.361997e+09   \n",
       "1               0.219435               6.302332e+09   \n",
       "2               0.413280               1.483970e+08   \n",
       "3               0.407107               2.379249e+06   \n",
       "4               0.532037               3.625012e+07   \n",
       "...                  ...                        ...   \n",
       "29186           0.349179               1.282317e+10   \n",
       "29187           0.269619               5.518598e+10   \n",
       "29188           0.569838               6.540161e+09   \n",
       "29189           0.897675               3.179329e+06   \n",
       "29190           0.295548               1.129309e+10   \n",
       "\n",
       "       population_standard_deviation   percentile15  ...       TCT       TGA  \\\n",
       "0                       2.362839e+09   32616.386506  ...  0.011429  0.009286   \n",
       "1                       6.304305e+09   85474.162174  ...  0.016917  0.033835   \n",
       "2                       1.484854e+08    8860.171322  ...  0.022673  0.033413   \n",
       "3                       2.384327e+06     697.213977  ...  0.025751  0.012876   \n",
       "4                       3.628557e+07    1321.777693  ...  0.017647  0.031373   \n",
       "...                              ...            ...  ...       ...       ...   \n",
       "29186                   1.282546e+10   85426.766918  ...  0.013939  0.017513   \n",
       "29187                   5.519392e+10  318882.731883  ...  0.015261  0.008926   \n",
       "29188                   6.540975e+09   87521.209051  ...  0.010962  0.025909   \n",
       "29189                   3.182126e+06     575.427308  ...  0.015873  0.024691   \n",
       "29190                   1.129543e+10   98122.332912  ...  0.019510  0.019925   \n",
       "\n",
       "            TGC       TGG       TGT       TTA       TTC       TTG       TTT  \\\n",
       "0      0.011429  0.017857  0.005000  0.006429  0.015000  0.006429  0.021429   \n",
       "1      0.008145  0.016917  0.016917  0.023810  0.015038  0.026316  0.034461   \n",
       "2      0.017900  0.017900  0.014320  0.014320  0.021480  0.019093  0.028640   \n",
       "3      0.021459  0.012876  0.008584  0.008584  0.038627  0.008584  0.077253   \n",
       "4      0.027451  0.041176  0.013725  0.001961  0.023529  0.019608  0.017647   \n",
       "...         ...       ...       ...       ...       ...       ...       ...   \n",
       "29186  0.019299  0.022873  0.012866  0.001430  0.010722  0.009650  0.012152   \n",
       "29187  0.027066  0.028218  0.011229  0.002591  0.010654  0.004607  0.004895   \n",
       "29188  0.017190  0.021923  0.018435  0.019183  0.015197  0.019183  0.038366   \n",
       "29189  0.010582  0.024691  0.026455  0.007055  0.010582  0.022928  0.022928   \n",
       "29190  0.014529  0.012868  0.013284  0.019510  0.019510  0.016604  0.044832   \n",
       "\n",
       "        label  \n",
       "0      lncRNA  \n",
       "1      lncRNA  \n",
       "2      lncRNA  \n",
       "3      lncRNA  \n",
       "4      lncRNA  \n",
       "...       ...  \n",
       "29186    mRNA  \n",
       "29187    mRNA  \n",
       "29188    mRNA  \n",
       "29189    mRNA  \n",
       "29190    mRNA  \n",
       "\n",
       "[58382 rows x 105 columns]"
      ]
     },
     "execution_count": 22,
     "metadata": {},
     "output_type": "execute_result"
    }
   ],
   "source": [
    "dadosTeste"
   ]
  },
  {
   "cell_type": "markdown",
   "id": "39380e2d",
   "metadata": {},
   "source": [
    "## Redução da amostragem em 50%"
   ]
  },
  {
   "cell_type": "code",
   "execution_count": 23,
   "id": "0bd70829",
   "metadata": {},
   "outputs": [
    {
     "data": {
      "text/plain": [
       "(58382, 105)"
      ]
     },
     "execution_count": 23,
     "metadata": {},
     "output_type": "execute_result"
    }
   ],
   "source": [
    "dadosTeste.shape"
   ]
  },
  {
   "cell_type": "code",
   "execution_count": 24,
   "id": "df73ba73",
   "metadata": {},
   "outputs": [],
   "source": [
    "dadosTeste = dadosTeste.sample(frac = 0.50)"
   ]
  },
  {
   "cell_type": "code",
   "execution_count": 25,
   "id": "3a25c428",
   "metadata": {},
   "outputs": [
    {
     "data": {
      "text/plain": [
       "(29191, 105)"
      ]
     },
     "execution_count": 25,
     "metadata": {},
     "output_type": "execute_result"
    }
   ],
   "source": [
    "dadosTeste.shape"
   ]
  },
  {
   "cell_type": "code",
   "execution_count": 26,
   "id": "c71137d3",
   "metadata": {},
   "outputs": [],
   "source": [
    "#Remove column nameseq\n",
    "dadosTeste.drop(columns='nameseq', inplace=True)"
   ]
  },
  {
   "cell_type": "code",
   "execution_count": 27,
   "id": "a41379e1",
   "metadata": {},
   "outputs": [
    {
     "data": {
      "text/plain": [
       "(29191, 104)"
      ]
     },
     "execution_count": 27,
     "metadata": {},
     "output_type": "execute_result"
    }
   ],
   "source": [
    "dadosTeste.shape"
   ]
  },
  {
   "cell_type": "code",
   "execution_count": 28,
   "id": "5145b4f8",
   "metadata": {},
   "outputs": [],
   "source": [
    "#Transform categorical in binary class values\n",
    "dicionario = {'mRNA':0,'lncRNA':1}\n",
    "dadosTeste['label'] = dadosTeste['label'].map(dicionario) "
   ]
  },
  {
   "cell_type": "code",
   "execution_count": 29,
   "id": "a86228a3",
   "metadata": {},
   "outputs": [
    {
     "data": {
      "text/html": [
       "<div>\n",
       "<style scoped>\n",
       "    .dataframe tbody tr th:only-of-type {\n",
       "        vertical-align: middle;\n",
       "    }\n",
       "\n",
       "    .dataframe tbody tr th {\n",
       "        vertical-align: top;\n",
       "    }\n",
       "\n",
       "    .dataframe thead th {\n",
       "        text-align: right;\n",
       "    }\n",
       "</style>\n",
       "<table border=\"1\" class=\"dataframe\">\n",
       "  <thead>\n",
       "    <tr style=\"text-align: right;\">\n",
       "      <th></th>\n",
       "      <th>average</th>\n",
       "      <th>median</th>\n",
       "      <th>maximum</th>\n",
       "      <th>minimum</th>\n",
       "      <th>peak</th>\n",
       "      <th>none_levated_peak</th>\n",
       "      <th>sample_standard_deviation</th>\n",
       "      <th>population_standard_deviation</th>\n",
       "      <th>percentile15</th>\n",
       "      <th>percentile25</th>\n",
       "      <th>...</th>\n",
       "      <th>TCT</th>\n",
       "      <th>TGA</th>\n",
       "      <th>TGC</th>\n",
       "      <th>TGG</th>\n",
       "      <th>TGT</th>\n",
       "      <th>TTA</th>\n",
       "      <th>TTC</th>\n",
       "      <th>TTG</th>\n",
       "      <th>TTT</th>\n",
       "      <th>label</th>\n",
       "    </tr>\n",
       "  </thead>\n",
       "  <tbody>\n",
       "    <tr>\n",
       "      <th>19342</th>\n",
       "      <td>1.509285e+07</td>\n",
       "      <td>6543.449621</td>\n",
       "      <td>1.163479e+10</td>\n",
       "      <td>387.462774</td>\n",
       "      <td>0.000067</td>\n",
       "      <td>1.554092</td>\n",
       "      <td>3.614868e+08</td>\n",
       "      <td>3.615467e+08</td>\n",
       "      <td>2399.428969</td>\n",
       "      <td>3243.725838</td>\n",
       "      <td>...</td>\n",
       "      <td>0.022207</td>\n",
       "      <td>0.021876</td>\n",
       "      <td>0.019556</td>\n",
       "      <td>0.024196</td>\n",
       "      <td>0.021545</td>\n",
       "      <td>0.013258</td>\n",
       "      <td>0.016573</td>\n",
       "      <td>0.016241</td>\n",
       "      <td>0.020550</td>\n",
       "      <td>1</td>\n",
       "    </tr>\n",
       "    <tr>\n",
       "      <th>5138</th>\n",
       "      <td>5.582652e+06</td>\n",
       "      <td>7659.167287</td>\n",
       "      <td>3.187412e+09</td>\n",
       "      <td>1453.892156</td>\n",
       "      <td>0.000049</td>\n",
       "      <td>0.471688</td>\n",
       "      <td>1.132826e+08</td>\n",
       "      <td>1.133514e+08</td>\n",
       "      <td>3808.492616</td>\n",
       "      <td>4696.375037</td>\n",
       "      <td>...</td>\n",
       "      <td>0.021898</td>\n",
       "      <td>0.013382</td>\n",
       "      <td>0.017032</td>\n",
       "      <td>0.017032</td>\n",
       "      <td>0.012165</td>\n",
       "      <td>0.017032</td>\n",
       "      <td>0.019465</td>\n",
       "      <td>0.014599</td>\n",
       "      <td>0.025547</td>\n",
       "      <td>1</td>\n",
       "    </tr>\n",
       "    <tr>\n",
       "      <th>13172</th>\n",
       "      <td>2.998540e+07</td>\n",
       "      <td>27434.415146</td>\n",
       "      <td>3.275942e+10</td>\n",
       "      <td>5252.439190</td>\n",
       "      <td>0.000017</td>\n",
       "      <td>0.488311</td>\n",
       "      <td>8.526966e+08</td>\n",
       "      <td>8.529770e+08</td>\n",
       "      <td>14318.879680</td>\n",
       "      <td>16443.131813</td>\n",
       "      <td>...</td>\n",
       "      <td>0.023700</td>\n",
       "      <td>0.013825</td>\n",
       "      <td>0.013825</td>\n",
       "      <td>0.017775</td>\n",
       "      <td>0.017117</td>\n",
       "      <td>0.019750</td>\n",
       "      <td>0.023041</td>\n",
       "      <td>0.011192</td>\n",
       "      <td>0.029625</td>\n",
       "      <td>1</td>\n",
       "    </tr>\n",
       "    <tr>\n",
       "      <th>22667</th>\n",
       "      <td>1.353223e+08</td>\n",
       "      <td>109912.388958</td>\n",
       "      <td>1.686734e+11</td>\n",
       "      <td>33858.422344</td>\n",
       "      <td>0.000008</td>\n",
       "      <td>0.640419</td>\n",
       "      <td>4.185749e+09</td>\n",
       "      <td>4.186358e+09</td>\n",
       "      <td>57141.780645</td>\n",
       "      <td>65075.084177</td>\n",
       "      <td>...</td>\n",
       "      <td>0.025036</td>\n",
       "      <td>0.022707</td>\n",
       "      <td>0.014265</td>\n",
       "      <td>0.016012</td>\n",
       "      <td>0.019505</td>\n",
       "      <td>0.020961</td>\n",
       "      <td>0.017467</td>\n",
       "      <td>0.017758</td>\n",
       "      <td>0.024163</td>\n",
       "      <td>1</td>\n",
       "    </tr>\n",
       "    <tr>\n",
       "      <th>2635</th>\n",
       "      <td>1.584975e+06</td>\n",
       "      <td>3738.268398</td>\n",
       "      <td>5.807588e+08</td>\n",
       "      <td>579.538739</td>\n",
       "      <td>0.000110</td>\n",
       "      <td>0.542657</td>\n",
       "      <td>2.599712e+07</td>\n",
       "      <td>2.602211e+07</td>\n",
       "      <td>1621.864386</td>\n",
       "      <td>2084.883395</td>\n",
       "      <td>...</td>\n",
       "      <td>0.026975</td>\n",
       "      <td>0.032755</td>\n",
       "      <td>0.013487</td>\n",
       "      <td>0.017341</td>\n",
       "      <td>0.028902</td>\n",
       "      <td>0.013487</td>\n",
       "      <td>0.011561</td>\n",
       "      <td>0.021195</td>\n",
       "      <td>0.026975</td>\n",
       "      <td>1</td>\n",
       "    </tr>\n",
       "    <tr>\n",
       "      <th>...</th>\n",
       "      <td>...</td>\n",
       "      <td>...</td>\n",
       "      <td>...</td>\n",
       "      <td>...</td>\n",
       "      <td>...</td>\n",
       "      <td>...</td>\n",
       "      <td>...</td>\n",
       "      <td>...</td>\n",
       "      <td>...</td>\n",
       "      <td>...</td>\n",
       "      <td>...</td>\n",
       "      <td>...</td>\n",
       "      <td>...</td>\n",
       "      <td>...</td>\n",
       "      <td>...</td>\n",
       "      <td>...</td>\n",
       "      <td>...</td>\n",
       "      <td>...</td>\n",
       "      <td>...</td>\n",
       "      <td>...</td>\n",
       "      <td>...</td>\n",
       "    </tr>\n",
       "    <tr>\n",
       "      <th>11824</th>\n",
       "      <td>2.280760e+05</td>\n",
       "      <td>1253.934158</td>\n",
       "      <td>4.395590e+07</td>\n",
       "      <td>73.143727</td>\n",
       "      <td>0.000852</td>\n",
       "      <td>0.996556</td>\n",
       "      <td>2.272138e+06</td>\n",
       "      <td>2.274089e+06</td>\n",
       "      <td>493.580564</td>\n",
       "      <td>670.052842</td>\n",
       "      <td>...</td>\n",
       "      <td>0.022375</td>\n",
       "      <td>0.018933</td>\n",
       "      <td>0.012048</td>\n",
       "      <td>0.024096</td>\n",
       "      <td>0.017212</td>\n",
       "      <td>0.008606</td>\n",
       "      <td>0.025818</td>\n",
       "      <td>0.013769</td>\n",
       "      <td>0.018933</td>\n",
       "      <td>0</td>\n",
       "    </tr>\n",
       "    <tr>\n",
       "      <th>324</th>\n",
       "      <td>1.644256e+07</td>\n",
       "      <td>27292.957616</td>\n",
       "      <td>1.085068e+10</td>\n",
       "      <td>8382.630309</td>\n",
       "      <td>0.000020</td>\n",
       "      <td>0.337162</td>\n",
       "      <td>3.567612e+08</td>\n",
       "      <td>3.569460e+08</td>\n",
       "      <td>14044.553426</td>\n",
       "      <td>15954.069124</td>\n",
       "      <td>...</td>\n",
       "      <td>0.012448</td>\n",
       "      <td>0.036307</td>\n",
       "      <td>0.015560</td>\n",
       "      <td>0.014523</td>\n",
       "      <td>0.023859</td>\n",
       "      <td>0.016598</td>\n",
       "      <td>0.018672</td>\n",
       "      <td>0.024896</td>\n",
       "      <td>0.014523</td>\n",
       "      <td>0</td>\n",
       "    </tr>\n",
       "    <tr>\n",
       "      <th>3797</th>\n",
       "      <td>1.474450e+08</td>\n",
       "      <td>143620.652093</td>\n",
       "      <td>1.754295e+11</td>\n",
       "      <td>49643.550727</td>\n",
       "      <td>0.000004</td>\n",
       "      <td>0.278047</td>\n",
       "      <td>4.214688e+09</td>\n",
       "      <td>4.215832e+09</td>\n",
       "      <td>77573.718335</td>\n",
       "      <td>86324.546370</td>\n",
       "      <td>...</td>\n",
       "      <td>0.017935</td>\n",
       "      <td>0.015217</td>\n",
       "      <td>0.009783</td>\n",
       "      <td>0.016848</td>\n",
       "      <td>0.019565</td>\n",
       "      <td>0.023370</td>\n",
       "      <td>0.020652</td>\n",
       "      <td>0.015217</td>\n",
       "      <td>0.025000</td>\n",
       "      <td>1</td>\n",
       "    </tr>\n",
       "    <tr>\n",
       "      <th>17068</th>\n",
       "      <td>4.501868e+08</td>\n",
       "      <td>181762.577225</td>\n",
       "      <td>1.684928e+12</td>\n",
       "      <td>50183.128972</td>\n",
       "      <td>0.000004</td>\n",
       "      <td>0.666737</td>\n",
       "      <td>2.239415e+10</td>\n",
       "      <td>2.239601e+10</td>\n",
       "      <td>93793.911400</td>\n",
       "      <td>108030.305332</td>\n",
       "      <td>...</td>\n",
       "      <td>0.017916</td>\n",
       "      <td>0.020902</td>\n",
       "      <td>0.019907</td>\n",
       "      <td>0.019907</td>\n",
       "      <td>0.018248</td>\n",
       "      <td>0.013769</td>\n",
       "      <td>0.015760</td>\n",
       "      <td>0.019409</td>\n",
       "      <td>0.018414</td>\n",
       "      <td>0</td>\n",
       "    </tr>\n",
       "    <tr>\n",
       "      <th>7094</th>\n",
       "      <td>8.966423e+07</td>\n",
       "      <td>95664.674322</td>\n",
       "      <td>8.109280e+10</td>\n",
       "      <td>16628.937973</td>\n",
       "      <td>0.000005</td>\n",
       "      <td>0.298178</td>\n",
       "      <td>2.277847e+09</td>\n",
       "      <td>2.278698e+09</td>\n",
       "      <td>52083.749437</td>\n",
       "      <td>59047.574983</td>\n",
       "      <td>...</td>\n",
       "      <td>0.011211</td>\n",
       "      <td>0.010463</td>\n",
       "      <td>0.031390</td>\n",
       "      <td>0.029895</td>\n",
       "      <td>0.012706</td>\n",
       "      <td>0.003737</td>\n",
       "      <td>0.009716</td>\n",
       "      <td>0.007474</td>\n",
       "      <td>0.006726</td>\n",
       "      <td>0</td>\n",
       "    </tr>\n",
       "  </tbody>\n",
       "</table>\n",
       "<p>29191 rows × 104 columns</p>\n",
       "</div>"
      ],
      "text/plain": [
       "            average         median       maximum       minimum      peak  \\\n",
       "19342  1.509285e+07    6543.449621  1.163479e+10    387.462774  0.000067   \n",
       "5138   5.582652e+06    7659.167287  3.187412e+09   1453.892156  0.000049   \n",
       "13172  2.998540e+07   27434.415146  3.275942e+10   5252.439190  0.000017   \n",
       "22667  1.353223e+08  109912.388958  1.686734e+11  33858.422344  0.000008   \n",
       "2635   1.584975e+06    3738.268398  5.807588e+08    579.538739  0.000110   \n",
       "...             ...            ...           ...           ...       ...   \n",
       "11824  2.280760e+05    1253.934158  4.395590e+07     73.143727  0.000852   \n",
       "324    1.644256e+07   27292.957616  1.085068e+10   8382.630309  0.000020   \n",
       "3797   1.474450e+08  143620.652093  1.754295e+11  49643.550727  0.000004   \n",
       "17068  4.501868e+08  181762.577225  1.684928e+12  50183.128972  0.000004   \n",
       "7094   8.966423e+07   95664.674322  8.109280e+10  16628.937973  0.000005   \n",
       "\n",
       "       none_levated_peak  sample_standard_deviation  \\\n",
       "19342           1.554092               3.614868e+08   \n",
       "5138            0.471688               1.132826e+08   \n",
       "13172           0.488311               8.526966e+08   \n",
       "22667           0.640419               4.185749e+09   \n",
       "2635            0.542657               2.599712e+07   \n",
       "...                  ...                        ...   \n",
       "11824           0.996556               2.272138e+06   \n",
       "324             0.337162               3.567612e+08   \n",
       "3797            0.278047               4.214688e+09   \n",
       "17068           0.666737               2.239415e+10   \n",
       "7094            0.298178               2.277847e+09   \n",
       "\n",
       "       population_standard_deviation  percentile15   percentile25  ...  \\\n",
       "19342                   3.615467e+08   2399.428969    3243.725838  ...   \n",
       "5138                    1.133514e+08   3808.492616    4696.375037  ...   \n",
       "13172                   8.529770e+08  14318.879680   16443.131813  ...   \n",
       "22667                   4.186358e+09  57141.780645   65075.084177  ...   \n",
       "2635                    2.602211e+07   1621.864386    2084.883395  ...   \n",
       "...                              ...           ...            ...  ...   \n",
       "11824                   2.274089e+06    493.580564     670.052842  ...   \n",
       "324                     3.569460e+08  14044.553426   15954.069124  ...   \n",
       "3797                    4.215832e+09  77573.718335   86324.546370  ...   \n",
       "17068                   2.239601e+10  93793.911400  108030.305332  ...   \n",
       "7094                    2.278698e+09  52083.749437   59047.574983  ...   \n",
       "\n",
       "            TCT       TGA       TGC       TGG       TGT       TTA       TTC  \\\n",
       "19342  0.022207  0.021876  0.019556  0.024196  0.021545  0.013258  0.016573   \n",
       "5138   0.021898  0.013382  0.017032  0.017032  0.012165  0.017032  0.019465   \n",
       "13172  0.023700  0.013825  0.013825  0.017775  0.017117  0.019750  0.023041   \n",
       "22667  0.025036  0.022707  0.014265  0.016012  0.019505  0.020961  0.017467   \n",
       "2635   0.026975  0.032755  0.013487  0.017341  0.028902  0.013487  0.011561   \n",
       "...         ...       ...       ...       ...       ...       ...       ...   \n",
       "11824  0.022375  0.018933  0.012048  0.024096  0.017212  0.008606  0.025818   \n",
       "324    0.012448  0.036307  0.015560  0.014523  0.023859  0.016598  0.018672   \n",
       "3797   0.017935  0.015217  0.009783  0.016848  0.019565  0.023370  0.020652   \n",
       "17068  0.017916  0.020902  0.019907  0.019907  0.018248  0.013769  0.015760   \n",
       "7094   0.011211  0.010463  0.031390  0.029895  0.012706  0.003737  0.009716   \n",
       "\n",
       "            TTG       TTT  label  \n",
       "19342  0.016241  0.020550      1  \n",
       "5138   0.014599  0.025547      1  \n",
       "13172  0.011192  0.029625      1  \n",
       "22667  0.017758  0.024163      1  \n",
       "2635   0.021195  0.026975      1  \n",
       "...         ...       ...    ...  \n",
       "11824  0.013769  0.018933      0  \n",
       "324    0.024896  0.014523      0  \n",
       "3797   0.015217  0.025000      1  \n",
       "17068  0.019409  0.018414      0  \n",
       "7094   0.007474  0.006726      0  \n",
       "\n",
       "[29191 rows x 104 columns]"
      ]
     },
     "execution_count": 29,
     "metadata": {},
     "output_type": "execute_result"
    }
   ],
   "source": [
    "dadosTeste"
   ]
  },
  {
   "cell_type": "markdown",
   "id": "ba9454cc",
   "metadata": {},
   "source": [
    "## Normalização dos dados Teste"
   ]
  },
  {
   "cell_type": "code",
   "execution_count": 30,
   "id": "a41b0a24",
   "metadata": {},
   "outputs": [
    {
     "data": {
      "text/html": [
       "<div>\n",
       "<style scoped>\n",
       "    .dataframe tbody tr th:only-of-type {\n",
       "        vertical-align: middle;\n",
       "    }\n",
       "\n",
       "    .dataframe tbody tr th {\n",
       "        vertical-align: top;\n",
       "    }\n",
       "\n",
       "    .dataframe thead th {\n",
       "        text-align: right;\n",
       "    }\n",
       "</style>\n",
       "<table border=\"1\" class=\"dataframe\">\n",
       "  <thead>\n",
       "    <tr style=\"text-align: right;\">\n",
       "      <th></th>\n",
       "      <th>average</th>\n",
       "      <th>median</th>\n",
       "      <th>maximum</th>\n",
       "      <th>minimum</th>\n",
       "      <th>peak</th>\n",
       "      <th>none_levated_peak</th>\n",
       "      <th>sample_standard_deviation</th>\n",
       "      <th>population_standard_deviation</th>\n",
       "      <th>percentile15</th>\n",
       "      <th>percentile25</th>\n",
       "      <th>...</th>\n",
       "      <th>TCT</th>\n",
       "      <th>TGA</th>\n",
       "      <th>TGC</th>\n",
       "      <th>TGG</th>\n",
       "      <th>TGT</th>\n",
       "      <th>TTA</th>\n",
       "      <th>TTC</th>\n",
       "      <th>TTG</th>\n",
       "      <th>TTT</th>\n",
       "      <th>label</th>\n",
       "    </tr>\n",
       "  </thead>\n",
       "  <tbody>\n",
       "    <tr>\n",
       "      <th>19342</th>\n",
       "      <td>1.509285e+07</td>\n",
       "      <td>6543.449621</td>\n",
       "      <td>1.163479e+10</td>\n",
       "      <td>387.462774</td>\n",
       "      <td>0.000067</td>\n",
       "      <td>1.554092</td>\n",
       "      <td>3.614868e+08</td>\n",
       "      <td>3.615467e+08</td>\n",
       "      <td>2399.428969</td>\n",
       "      <td>3243.725838</td>\n",
       "      <td>...</td>\n",
       "      <td>0.022207</td>\n",
       "      <td>0.021876</td>\n",
       "      <td>0.019556</td>\n",
       "      <td>0.024196</td>\n",
       "      <td>0.021545</td>\n",
       "      <td>0.013258</td>\n",
       "      <td>0.016573</td>\n",
       "      <td>0.016241</td>\n",
       "      <td>0.020550</td>\n",
       "      <td>1</td>\n",
       "    </tr>\n",
       "    <tr>\n",
       "      <th>5138</th>\n",
       "      <td>5.582652e+06</td>\n",
       "      <td>7659.167287</td>\n",
       "      <td>3.187412e+09</td>\n",
       "      <td>1453.892156</td>\n",
       "      <td>0.000049</td>\n",
       "      <td>0.471688</td>\n",
       "      <td>1.132826e+08</td>\n",
       "      <td>1.133514e+08</td>\n",
       "      <td>3808.492616</td>\n",
       "      <td>4696.375037</td>\n",
       "      <td>...</td>\n",
       "      <td>0.021898</td>\n",
       "      <td>0.013382</td>\n",
       "      <td>0.017032</td>\n",
       "      <td>0.017032</td>\n",
       "      <td>0.012165</td>\n",
       "      <td>0.017032</td>\n",
       "      <td>0.019465</td>\n",
       "      <td>0.014599</td>\n",
       "      <td>0.025547</td>\n",
       "      <td>1</td>\n",
       "    </tr>\n",
       "    <tr>\n",
       "      <th>13172</th>\n",
       "      <td>2.998540e+07</td>\n",
       "      <td>27434.415146</td>\n",
       "      <td>3.275942e+10</td>\n",
       "      <td>5252.439190</td>\n",
       "      <td>0.000017</td>\n",
       "      <td>0.488311</td>\n",
       "      <td>8.526966e+08</td>\n",
       "      <td>8.529770e+08</td>\n",
       "      <td>14318.879680</td>\n",
       "      <td>16443.131813</td>\n",
       "      <td>...</td>\n",
       "      <td>0.023700</td>\n",
       "      <td>0.013825</td>\n",
       "      <td>0.013825</td>\n",
       "      <td>0.017775</td>\n",
       "      <td>0.017117</td>\n",
       "      <td>0.019750</td>\n",
       "      <td>0.023041</td>\n",
       "      <td>0.011192</td>\n",
       "      <td>0.029625</td>\n",
       "      <td>1</td>\n",
       "    </tr>\n",
       "    <tr>\n",
       "      <th>22667</th>\n",
       "      <td>1.353223e+08</td>\n",
       "      <td>109912.388958</td>\n",
       "      <td>1.686734e+11</td>\n",
       "      <td>33858.422344</td>\n",
       "      <td>0.000008</td>\n",
       "      <td>0.640419</td>\n",
       "      <td>4.185749e+09</td>\n",
       "      <td>4.186358e+09</td>\n",
       "      <td>57141.780645</td>\n",
       "      <td>65075.084177</td>\n",
       "      <td>...</td>\n",
       "      <td>0.025036</td>\n",
       "      <td>0.022707</td>\n",
       "      <td>0.014265</td>\n",
       "      <td>0.016012</td>\n",
       "      <td>0.019505</td>\n",
       "      <td>0.020961</td>\n",
       "      <td>0.017467</td>\n",
       "      <td>0.017758</td>\n",
       "      <td>0.024163</td>\n",
       "      <td>1</td>\n",
       "    </tr>\n",
       "    <tr>\n",
       "      <th>2635</th>\n",
       "      <td>1.584975e+06</td>\n",
       "      <td>3738.268398</td>\n",
       "      <td>5.807588e+08</td>\n",
       "      <td>579.538739</td>\n",
       "      <td>0.000110</td>\n",
       "      <td>0.542657</td>\n",
       "      <td>2.599712e+07</td>\n",
       "      <td>2.602211e+07</td>\n",
       "      <td>1621.864386</td>\n",
       "      <td>2084.883395</td>\n",
       "      <td>...</td>\n",
       "      <td>0.026975</td>\n",
       "      <td>0.032755</td>\n",
       "      <td>0.013487</td>\n",
       "      <td>0.017341</td>\n",
       "      <td>0.028902</td>\n",
       "      <td>0.013487</td>\n",
       "      <td>0.011561</td>\n",
       "      <td>0.021195</td>\n",
       "      <td>0.026975</td>\n",
       "      <td>1</td>\n",
       "    </tr>\n",
       "    <tr>\n",
       "      <th>...</th>\n",
       "      <td>...</td>\n",
       "      <td>...</td>\n",
       "      <td>...</td>\n",
       "      <td>...</td>\n",
       "      <td>...</td>\n",
       "      <td>...</td>\n",
       "      <td>...</td>\n",
       "      <td>...</td>\n",
       "      <td>...</td>\n",
       "      <td>...</td>\n",
       "      <td>...</td>\n",
       "      <td>...</td>\n",
       "      <td>...</td>\n",
       "      <td>...</td>\n",
       "      <td>...</td>\n",
       "      <td>...</td>\n",
       "      <td>...</td>\n",
       "      <td>...</td>\n",
       "      <td>...</td>\n",
       "      <td>...</td>\n",
       "      <td>...</td>\n",
       "    </tr>\n",
       "    <tr>\n",
       "      <th>11824</th>\n",
       "      <td>2.280760e+05</td>\n",
       "      <td>1253.934158</td>\n",
       "      <td>4.395590e+07</td>\n",
       "      <td>73.143727</td>\n",
       "      <td>0.000852</td>\n",
       "      <td>0.996556</td>\n",
       "      <td>2.272138e+06</td>\n",
       "      <td>2.274089e+06</td>\n",
       "      <td>493.580564</td>\n",
       "      <td>670.052842</td>\n",
       "      <td>...</td>\n",
       "      <td>0.022375</td>\n",
       "      <td>0.018933</td>\n",
       "      <td>0.012048</td>\n",
       "      <td>0.024096</td>\n",
       "      <td>0.017212</td>\n",
       "      <td>0.008606</td>\n",
       "      <td>0.025818</td>\n",
       "      <td>0.013769</td>\n",
       "      <td>0.018933</td>\n",
       "      <td>0</td>\n",
       "    </tr>\n",
       "    <tr>\n",
       "      <th>324</th>\n",
       "      <td>1.644256e+07</td>\n",
       "      <td>27292.957616</td>\n",
       "      <td>1.085068e+10</td>\n",
       "      <td>8382.630309</td>\n",
       "      <td>0.000020</td>\n",
       "      <td>0.337162</td>\n",
       "      <td>3.567612e+08</td>\n",
       "      <td>3.569460e+08</td>\n",
       "      <td>14044.553426</td>\n",
       "      <td>15954.069124</td>\n",
       "      <td>...</td>\n",
       "      <td>0.012448</td>\n",
       "      <td>0.036307</td>\n",
       "      <td>0.015560</td>\n",
       "      <td>0.014523</td>\n",
       "      <td>0.023859</td>\n",
       "      <td>0.016598</td>\n",
       "      <td>0.018672</td>\n",
       "      <td>0.024896</td>\n",
       "      <td>0.014523</td>\n",
       "      <td>0</td>\n",
       "    </tr>\n",
       "    <tr>\n",
       "      <th>3797</th>\n",
       "      <td>1.474450e+08</td>\n",
       "      <td>143620.652093</td>\n",
       "      <td>1.754295e+11</td>\n",
       "      <td>49643.550727</td>\n",
       "      <td>0.000004</td>\n",
       "      <td>0.278047</td>\n",
       "      <td>4.214688e+09</td>\n",
       "      <td>4.215832e+09</td>\n",
       "      <td>77573.718335</td>\n",
       "      <td>86324.546370</td>\n",
       "      <td>...</td>\n",
       "      <td>0.017935</td>\n",
       "      <td>0.015217</td>\n",
       "      <td>0.009783</td>\n",
       "      <td>0.016848</td>\n",
       "      <td>0.019565</td>\n",
       "      <td>0.023370</td>\n",
       "      <td>0.020652</td>\n",
       "      <td>0.015217</td>\n",
       "      <td>0.025000</td>\n",
       "      <td>1</td>\n",
       "    </tr>\n",
       "    <tr>\n",
       "      <th>17068</th>\n",
       "      <td>4.501868e+08</td>\n",
       "      <td>181762.577225</td>\n",
       "      <td>1.684928e+12</td>\n",
       "      <td>50183.128972</td>\n",
       "      <td>0.000004</td>\n",
       "      <td>0.666737</td>\n",
       "      <td>2.239415e+10</td>\n",
       "      <td>2.239601e+10</td>\n",
       "      <td>93793.911400</td>\n",
       "      <td>108030.305332</td>\n",
       "      <td>...</td>\n",
       "      <td>0.017916</td>\n",
       "      <td>0.020902</td>\n",
       "      <td>0.019907</td>\n",
       "      <td>0.019907</td>\n",
       "      <td>0.018248</td>\n",
       "      <td>0.013769</td>\n",
       "      <td>0.015760</td>\n",
       "      <td>0.019409</td>\n",
       "      <td>0.018414</td>\n",
       "      <td>0</td>\n",
       "    </tr>\n",
       "    <tr>\n",
       "      <th>7094</th>\n",
       "      <td>8.966423e+07</td>\n",
       "      <td>95664.674322</td>\n",
       "      <td>8.109280e+10</td>\n",
       "      <td>16628.937973</td>\n",
       "      <td>0.000005</td>\n",
       "      <td>0.298178</td>\n",
       "      <td>2.277847e+09</td>\n",
       "      <td>2.278698e+09</td>\n",
       "      <td>52083.749437</td>\n",
       "      <td>59047.574983</td>\n",
       "      <td>...</td>\n",
       "      <td>0.011211</td>\n",
       "      <td>0.010463</td>\n",
       "      <td>0.031390</td>\n",
       "      <td>0.029895</td>\n",
       "      <td>0.012706</td>\n",
       "      <td>0.003737</td>\n",
       "      <td>0.009716</td>\n",
       "      <td>0.007474</td>\n",
       "      <td>0.006726</td>\n",
       "      <td>0</td>\n",
       "    </tr>\n",
       "  </tbody>\n",
       "</table>\n",
       "<p>29191 rows × 104 columns</p>\n",
       "</div>"
      ],
      "text/plain": [
       "            average         median       maximum       minimum      peak  \\\n",
       "19342  1.509285e+07    6543.449621  1.163479e+10    387.462774  0.000067   \n",
       "5138   5.582652e+06    7659.167287  3.187412e+09   1453.892156  0.000049   \n",
       "13172  2.998540e+07   27434.415146  3.275942e+10   5252.439190  0.000017   \n",
       "22667  1.353223e+08  109912.388958  1.686734e+11  33858.422344  0.000008   \n",
       "2635   1.584975e+06    3738.268398  5.807588e+08    579.538739  0.000110   \n",
       "...             ...            ...           ...           ...       ...   \n",
       "11824  2.280760e+05    1253.934158  4.395590e+07     73.143727  0.000852   \n",
       "324    1.644256e+07   27292.957616  1.085068e+10   8382.630309  0.000020   \n",
       "3797   1.474450e+08  143620.652093  1.754295e+11  49643.550727  0.000004   \n",
       "17068  4.501868e+08  181762.577225  1.684928e+12  50183.128972  0.000004   \n",
       "7094   8.966423e+07   95664.674322  8.109280e+10  16628.937973  0.000005   \n",
       "\n",
       "       none_levated_peak  sample_standard_deviation  \\\n",
       "19342           1.554092               3.614868e+08   \n",
       "5138            0.471688               1.132826e+08   \n",
       "13172           0.488311               8.526966e+08   \n",
       "22667           0.640419               4.185749e+09   \n",
       "2635            0.542657               2.599712e+07   \n",
       "...                  ...                        ...   \n",
       "11824           0.996556               2.272138e+06   \n",
       "324             0.337162               3.567612e+08   \n",
       "3797            0.278047               4.214688e+09   \n",
       "17068           0.666737               2.239415e+10   \n",
       "7094            0.298178               2.277847e+09   \n",
       "\n",
       "       population_standard_deviation  percentile15   percentile25  ...  \\\n",
       "19342                   3.615467e+08   2399.428969    3243.725838  ...   \n",
       "5138                    1.133514e+08   3808.492616    4696.375037  ...   \n",
       "13172                   8.529770e+08  14318.879680   16443.131813  ...   \n",
       "22667                   4.186358e+09  57141.780645   65075.084177  ...   \n",
       "2635                    2.602211e+07   1621.864386    2084.883395  ...   \n",
       "...                              ...           ...            ...  ...   \n",
       "11824                   2.274089e+06    493.580564     670.052842  ...   \n",
       "324                     3.569460e+08  14044.553426   15954.069124  ...   \n",
       "3797                    4.215832e+09  77573.718335   86324.546370  ...   \n",
       "17068                   2.239601e+10  93793.911400  108030.305332  ...   \n",
       "7094                    2.278698e+09  52083.749437   59047.574983  ...   \n",
       "\n",
       "            TCT       TGA       TGC       TGG       TGT       TTA       TTC  \\\n",
       "19342  0.022207  0.021876  0.019556  0.024196  0.021545  0.013258  0.016573   \n",
       "5138   0.021898  0.013382  0.017032  0.017032  0.012165  0.017032  0.019465   \n",
       "13172  0.023700  0.013825  0.013825  0.017775  0.017117  0.019750  0.023041   \n",
       "22667  0.025036  0.022707  0.014265  0.016012  0.019505  0.020961  0.017467   \n",
       "2635   0.026975  0.032755  0.013487  0.017341  0.028902  0.013487  0.011561   \n",
       "...         ...       ...       ...       ...       ...       ...       ...   \n",
       "11824  0.022375  0.018933  0.012048  0.024096  0.017212  0.008606  0.025818   \n",
       "324    0.012448  0.036307  0.015560  0.014523  0.023859  0.016598  0.018672   \n",
       "3797   0.017935  0.015217  0.009783  0.016848  0.019565  0.023370  0.020652   \n",
       "17068  0.017916  0.020902  0.019907  0.019907  0.018248  0.013769  0.015760   \n",
       "7094   0.011211  0.010463  0.031390  0.029895  0.012706  0.003737  0.009716   \n",
       "\n",
       "            TTG       TTT  label  \n",
       "19342  0.016241  0.020550      1  \n",
       "5138   0.014599  0.025547      1  \n",
       "13172  0.011192  0.029625      1  \n",
       "22667  0.017758  0.024163      1  \n",
       "2635   0.021195  0.026975      1  \n",
       "...         ...       ...    ...  \n",
       "11824  0.013769  0.018933      0  \n",
       "324    0.024896  0.014523      0  \n",
       "3797   0.015217  0.025000      1  \n",
       "17068  0.019409  0.018414      0  \n",
       "7094   0.007474  0.006726      0  \n",
       "\n",
       "[29191 rows x 104 columns]"
      ]
     },
     "execution_count": 30,
     "metadata": {},
     "output_type": "execute_result"
    }
   ],
   "source": [
    "dadosTeste"
   ]
  },
  {
   "cell_type": "code",
   "execution_count": 31,
   "id": "10bcc6db",
   "metadata": {},
   "outputs": [],
   "source": [
    "X_teste = dadosTeste.iloc[:,17:]"
   ]
  },
  {
   "cell_type": "code",
   "execution_count": 32,
   "id": "5b59639e",
   "metadata": {},
   "outputs": [],
   "source": [
    "# Gera os previsores e classe (X e y)\n",
    "X_teste = X_teste[colunas].values\n",
    "y_teste = dadosTeste['label']"
   ]
  },
  {
   "cell_type": "code",
   "execution_count": 33,
   "id": "933b2aa0",
   "metadata": {},
   "outputs": [
    {
     "data": {
      "text/plain": [
       "(29191, 86)"
      ]
     },
     "execution_count": 33,
     "metadata": {},
     "output_type": "execute_result"
    }
   ],
   "source": [
    "X_teste.shape"
   ]
  },
  {
   "cell_type": "code",
   "execution_count": 34,
   "id": "3e378449",
   "metadata": {},
   "outputs": [
    {
     "name": "stdout",
     "output_type": "stream",
     "text": [
      "19342    1\n",
      "5138     1\n",
      "13172    1\n",
      "22667    1\n",
      "2635     1\n",
      "        ..\n",
      "11824    0\n",
      "324      0\n",
      "3797     1\n",
      "17068    0\n",
      "7094     0\n",
      "Name: label, Length: 29191, dtype: int64\n"
     ]
    }
   ],
   "source": [
    "print(y_teste)"
   ]
  },
  {
   "cell_type": "code",
   "execution_count": 35,
   "id": "125752b1",
   "metadata": {},
   "outputs": [
    {
     "name": "stdout",
     "output_type": "stream",
     "text": [
      "(68111, 86) (68111,) (29191, 86) (29191,)\n"
     ]
    }
   ],
   "source": [
    "print(X.shape, y.shape, X_teste.shape, y_teste.shape)"
   ]
  },
  {
   "cell_type": "markdown",
   "id": "2b8a9de7",
   "metadata": {},
   "source": [
    "## Aplica o modelo de predição com RandomForest sem o Feature Importance"
   ]
  },
  {
   "cell_type": "code",
   "execution_count": 36,
   "id": "9a834639",
   "metadata": {},
   "outputs": [
    {
     "name": "stdout",
     "output_type": "stream",
     "text": [
      "84.39\n"
     ]
    }
   ],
   "source": [
    "from sklearn.ensemble import RandomForestClassifier\n",
    "# instancia um DecisionTreeClassifier\n",
    "clf_rf = RandomForestClassifier(n_estimators = 10, criterion = 'entropy',random_state=123) \n",
    "# treina o DT\n",
    "clf_rf.fit(X, y)\n",
    "\n",
    "y_pred = clf_rf.predict(X_teste)\n",
    "#print(y_pred)\n",
    "\n",
    " # gerar score baseado na acurácia\n",
    "acuracidade = round(accuracy_score(y_teste,y_pred)*100,2)\n",
    "print(acuracidade)"
   ]
  },
  {
   "cell_type": "markdown",
   "id": "39f6dd29",
   "metadata": {},
   "source": [
    "## Aplica o modelo de predição com RandomForest e Wrapper SFS"
   ]
  },
  {
   "cell_type": "code",
   "execution_count": 69,
   "id": "5891ea2a",
   "metadata": {},
   "outputs": [],
   "source": [
    "clf_rf_2 = RandomForestClassifier(n_estimators = 10, criterion = 'entropy',random_state=123)"
   ]
  },
  {
   "cell_type": "code",
   "execution_count": 72,
   "id": "50f1a905",
   "metadata": {},
   "outputs": [],
   "source": [
    "sfs1 = SFS(estimator=clf_rf_2, \n",
    "           k_features=8,\n",
    "           forward=True, \n",
    "           floating=False, \n",
    "           scoring='accuracy',\n",
    "           cv=5)"
   ]
  },
  {
   "cell_type": "code",
   "execution_count": 73,
   "id": "ef7d9fef",
   "metadata": {},
   "outputs": [],
   "source": [
    "sfs1 = sfs1.fit(X,y)"
   ]
  },
  {
   "cell_type": "markdown",
   "id": "c6854297",
   "metadata": {},
   "source": [
    "## Exibindo as as melhores features"
   ]
  },
  {
   "cell_type": "code",
   "execution_count": 74,
   "id": "d36f13b6",
   "metadata": {},
   "outputs": [
    {
     "data": {
      "image/png": "[encoded data removed]",
      "text/plain": [
       "<Figure size 432x288 with 1 Axes>"
      ]
     },
     "metadata": {
      "needs_background": "light"
     },
     "output_type": "display_data"
    }
   ],
   "source": [
    "fig = plot_sfs(sfs1.get_metric_dict(), kind='std_dev')\n",
    "plt.title('Sequential Forward Selection (std_dev)')\n",
    "plt.grid()\n",
    "plt.show()"
   ]
  },
  {
   "cell_type": "code",
   "execution_count": 129,
   "id": "3aadc268",
   "metadata": {},
   "outputs": [
    {
     "name": "stdout",
     "output_type": "stream",
     "text": [
      "Features Selected: ['0', '12', '32', '39', '46', '51', '70', '72']\n",
      "Features Selected: average\n",
      "Features Selected: amplitude\n",
      "Features Selected: GC\n",
      "Features Selected: AAA\n",
      "Features Selected: ACT\n",
      "Features Selected: ATA\n",
      "Features Selected: CTT\n",
      "Features Selected: GAC\n"
     ]
    }
   ],
   "source": [
    "#Feature importance\n",
    "sfs1_metrics = pd.DataFrame.from_dict(sfs1.get_metric_dict()).T\n",
    "# 8 features have better metrics.\n",
    "sfs1_features = list(sfs1_metrics['feature_names'][8])\n",
    "print(\"Features Selected:\", sfs1_features)\n",
    "cols = dadosTreino.columns\n",
    "for i in sfs1_features:\n",
    "    print(\"Features Selected:\",cols[int(i)])"
   ]
  },
  {
   "cell_type": "code",
   "execution_count": 96,
   "id": "ae7efe54",
   "metadata": {},
   "outputs": [],
   "source": [
    "X_train_sfs1 = sfs1.transform(X)\n",
    "X_test_sfs1 = sfs1.transform(X_teste)"
   ]
  },
  {
   "cell_type": "code",
   "execution_count": 102,
   "id": "dc3eea18",
   "metadata": {},
   "outputs": [],
   "source": [
    "clf_rf_2.fit(X_train_sfs1,y)\n",
    "rf_pred = clf_rf_2.predict(X_test_sfs1)\n",
    "y_pred = clf_rf_2.predict_proba(X_test_sfs1)"
   ]
  },
  {
   "cell_type": "code",
   "execution_count": 103,
   "id": "ea0b6f96",
   "metadata": {},
   "outputs": [
    {
     "name": "stdout",
     "output_type": "stream",
     "text": [
      "[1 1 1 ... 1 0 0]\n",
      "[[0.  1. ]\n",
      " [0.  1. ]\n",
      " [0.1 0.9]\n",
      " ...\n",
      " [0.3 0.7]\n",
      " [0.6 0.4]\n",
      " [0.9 0.1]]\n"
     ]
    }
   ],
   "source": [
    "#Predicao sem validação cruzada\n",
    "print(rf_pred)\n",
    "print(y_pred)"
   ]
  },
  {
   "cell_type": "markdown",
   "id": "53e3daf9",
   "metadata": {},
   "source": [
    "## Validação cruzada no conjunto reduzido"
   ]
  },
  {
   "cell_type": "code",
   "execution_count": null,
   "id": "db604444",
   "metadata": {},
   "outputs": [],
   "source": [
    "kfold = KFold(n_splits=10, shuffle=True, random_state=123)\n",
    "resultado = cross_val_score(rfe, X, y, cv=kfold, scoring='accuracy')"
   ]
  },
  {
   "cell_type": "code",
   "execution_count": null,
   "id": "a22fc712",
   "metadata": {},
   "outputs": [],
   "source": [
    "print('O score cross-validado do Random Forest é:', resultado.mean())"
   ]
  },
  {
   "cell_type": "code",
   "execution_count": null,
   "id": "3303dafb",
   "metadata": {},
   "outputs": [],
   "source": [
    "resultado"
   ]
  },
  {
   "cell_type": "code",
   "execution_count": null,
   "id": "1f66dd48",
   "metadata": {},
   "outputs": [],
   "source": [
    "rf_pred = rfe.predict(X_teste)"
   ]
  },
  {
   "cell_type": "markdown",
   "id": "d3fa552e",
   "metadata": {},
   "source": [
    "## Calculando as métricas"
   ]
  },
  {
   "cell_type": "code",
   "execution_count": 104,
   "id": "208222b0",
   "metadata": {},
   "outputs": [
    {
     "data": {
      "image/png": "[encoded data removed]",
      "text/plain": [
       "<Figure size 432x288 with 2 Axes>"
      ]
     },
     "metadata": {
      "needs_background": "light"
     },
     "output_type": "display_data"
    }
   ],
   "source": [
    "#Matriz de confusão\n",
    "from sklearn.metrics import confusion_matrix\n",
    "sns.heatmap(confusion_matrix(y_teste, rf_pred), cmap='OrRd', annot=True, fmt='2.0f')\n",
    "plt.title('Random Forest')\n",
    "plt.ylabel('P R E V I S T O')\n",
    "plt.xlabel('R E A L')\n",
    "plt.show()"
   ]
  },
  {
   "cell_type": "code",
   "execution_count": 112,
   "id": "48f06da5",
   "metadata": {},
   "outputs": [
    {
     "name": "stdout",
     "output_type": "stream",
     "text": [
      "Acurácia:0.83\n",
      "Especificidade:0.83\n",
      "Precisão:0.83\n",
      "Recall ou Sensibilidade:0.82\n",
      "F1-Score:0.83\n",
      "Kappa:0.65\n",
      "Curva ROC:0.83\n"
     ]
    }
   ],
   "source": [
    "#Acurácia, Sensibilidade positiva (VP/(VP+FN), Especificidade, Precisão, Recall, F1-Score\n",
    "acuracia_rf = accuracy_score(y_teste,rf_pred)\n",
    "especificidade_rf = specificity_score(y_teste,rf_pred)\n",
    "precisao_rf = precision_score(y_teste,rf_pred)\n",
    "recall_rf = recall_score(y_teste,rf_pred)\n",
    "f1Score_rf = f1_score(y_teste,rf_pred)\n",
    "curva_roc_escore_rf = roc_auc_score(y_teste,rf_pred)\n",
    "kappa_rf = cohen_kappa_score(y_teste,rf_pred)\n",
    "print(f'Acurácia:{round(acuracia_rf,2)}')\n",
    "print(f'Especificidade:{round(especificidade_rf,2)}')\n",
    "print(f'Precisão:{round(precisao_rf,2)}')\n",
    "print(f'Recall ou Sensibilidade:{round(recall_rf,2)}')\n",
    "print(f'F1-Score:{round(f1Score_rf,2)}')\n",
    "print(f'Kappa:{round(kappa_rf,2)}')\n",
    "print(f'Curva ROC:{round(curva_roc_escore_rf,2)}')\n"
   ]
  },
  {
   "cell_type": "markdown",
   "id": "d9e4ad66",
   "metadata": {},
   "source": [
    "## Curva ROC"
   ]
  },
  {
   "cell_type": "code",
   "execution_count": 113,
   "id": "43c2bdd4",
   "metadata": {},
   "outputs": [],
   "source": [
    "import matplotlib.pyplot  as pyplot"
   ]
  },
  {
   "cell_type": "code",
   "execution_count": 114,
   "id": "a02325bc",
   "metadata": {},
   "outputs": [
    {
     "data": {
      "image/png": "[encoded data removed]",
      "text/plain": [
       "<Figure size 432x288 with 1 Axes>"
      ]
     },
     "metadata": {
      "needs_background": "light"
     },
     "output_type": "display_data"
    }
   ],
   "source": [
    "rfp_rf, rvp_rf,lim2 = roc_curve(y_teste,rf_pred)\n",
    "pyplot.plot(rfp_rf, rvp_rf, marker='.', label='Random Forest='+str(round(curva_roc_escore_rf,2)),color=\"blue\")\n",
    "pyplot.plot([0, 1], [0, 1], color='black', linestyle='--')\n",
    "# alterando o nome dos eixos\n",
    "pyplot.xlabel('1- Especificidade (FP)')\n",
    "pyplot.ylabel('Sensibilidade (VP)')\n",
    "pyplot.legend()\n",
    "# Mostrando o gráfico\n",
    "pyplot.show()"
   ]
  },
  {
   "cell_type": "markdown",
   "id": "2890e898",
   "metadata": {},
   "source": [
    "## Aplica o modelo de predição com Regressão Logística e Wrapper"
   ]
  },
  {
   "cell_type": "code",
   "execution_count": 37,
   "id": "14534d9c",
   "metadata": {},
   "outputs": [],
   "source": [
    "clf_rl = LogisticRegression(max_iter=2000)"
   ]
  },
  {
   "cell_type": "code",
   "execution_count": 38,
   "id": "22058223",
   "metadata": {},
   "outputs": [],
   "source": [
    "sfs2 = SFS(estimator=clf_rl , \n",
    "           k_features=8,\n",
    "           forward=True, \n",
    "           floating=False, \n",
    "           scoring='accuracy',\n",
    "           cv=5)"
   ]
  },
  {
   "cell_type": "code",
   "execution_count": 39,
   "id": "8d855607",
   "metadata": {},
   "outputs": [],
   "source": [
    "sfs2 = sfs2.fit(X,y)"
   ]
  },
  {
   "cell_type": "markdown",
   "id": "a4c17186",
   "metadata": {},
   "source": [
    "## Exibindo as melhores features"
   ]
  },
  {
   "cell_type": "code",
   "execution_count": 40,
   "id": "09b952c6",
   "metadata": {},
   "outputs": [
    {
     "data": {
      "image/png": "[encoded data removed]",
      "text/plain": [
       "<Figure size 432x288 with 1 Axes>"
      ]
     },
     "metadata": {
      "needs_background": "light"
     },
     "output_type": "display_data"
    }
   ],
   "source": [
    "fig = plot_sfs(sfs2.get_metric_dict(), kind='std_dev')\n",
    "plt.title('Sequential Forward Selection (std_dev)')\n",
    "plt.grid()\n",
    "plt.show()"
   ]
  },
  {
   "cell_type": "code",
   "execution_count": 128,
   "id": "722b0d4a",
   "metadata": {},
   "outputs": [
    {
     "name": "stdout",
     "output_type": "stream",
     "text": [
      "Features Selected: ['0', '12', '32', '39', '46', '51', '70', '72']\n",
      "Features Selected: average\n",
      "Features Selected: amplitude\n",
      "Features Selected: GC\n",
      "Features Selected: AAA\n",
      "Features Selected: ACT\n",
      "Features Selected: ATA\n",
      "Features Selected: CTT\n",
      "Features Selected: GAC\n"
     ]
    }
   ],
   "source": [
    "#Feature importance\n",
    "sfs2_metrics = pd.DataFrame.from_dict(sfs2.get_metric_dict()).T\n",
    "# 8 features have better metrics.\n",
    "sfs2_features = list(sfs1_metrics['feature_names'][8])\n",
    "print(\"Features Selected:\", sfs2_features)\n",
    "cols = dadosTreino.columns\n",
    "for i in sfs2_features:\n",
    "    print(\"Features Selected:\",cols[int(i)])"
   ]
  },
  {
   "cell_type": "markdown",
   "id": "f7f9b825",
   "metadata": {},
   "source": [
    "## Aplicando as features e executar a predição"
   ]
  },
  {
   "cell_type": "code",
   "execution_count": 51,
   "id": "526ccb60",
   "metadata": {},
   "outputs": [],
   "source": [
    "X_train_sfs2 = sfs2.transform(X)\n",
    "X_test_sfs2 = sfs2.transform(X_teste)"
   ]
  },
  {
   "cell_type": "code",
   "execution_count": 65,
   "id": "60c8f6e3",
   "metadata": {},
   "outputs": [],
   "source": [
    "clf_rl.fit(X_train_sfs2,y)\n",
    "rl_pred = clf_rl.predict(X_test_sfs2)\n",
    "y_pred = clf_rl.predict_proba(X_test_sfs2)"
   ]
  },
  {
   "cell_type": "code",
   "execution_count": 66,
   "id": "51acc313",
   "metadata": {},
   "outputs": [
    {
     "name": "stdout",
     "output_type": "stream",
     "text": [
      "[1 1 1 ... 1 0 0]\n",
      "[[0.41080556 0.58919444]\n",
      " [0.2933164  0.7066836 ]\n",
      " [0.40032847 0.59967153]\n",
      " ...\n",
      " [0.30955008 0.69044992]\n",
      " [0.60019907 0.39980093]\n",
      " [0.94469894 0.05530106]]\n"
     ]
    }
   ],
   "source": [
    "print(rl_pred)\n",
    "print(y_pred)"
   ]
  },
  {
   "cell_type": "markdown",
   "id": "43d50e51",
   "metadata": {},
   "source": [
    "## Validação cruzada no conjunto reduzido"
   ]
  },
  {
   "cell_type": "code",
   "execution_count": null,
   "id": "ec1f6136",
   "metadata": {},
   "outputs": [],
   "source": [
    "kfold = KFold(n_splits=10, shuffle=True, random_state=123)\n",
    "resultado_rl = cross_val_score(fit_rl, X, y, cv=kfold, scoring='accuracy')"
   ]
  },
  {
   "cell_type": "code",
   "execution_count": null,
   "id": "95fdddcd",
   "metadata": {},
   "outputs": [],
   "source": [
    "print('O score cross-validado do Regressão Logística é:', resultado_rl.mean())"
   ]
  },
  {
   "cell_type": "code",
   "execution_count": null,
   "id": "adc6390a",
   "metadata": {},
   "outputs": [],
   "source": [
    "resultado_rl"
   ]
  },
  {
   "cell_type": "markdown",
   "id": "da361382",
   "metadata": {},
   "source": [
    "## Calculando as métricas"
   ]
  },
  {
   "cell_type": "code",
   "execution_count": 67,
   "id": "c6ab0e47",
   "metadata": {},
   "outputs": [
    {
     "data": {
      "image/png": "[encoded data removed]",
      "text/plain": [
       "<Figure size 432x288 with 2 Axes>"
      ]
     },
     "metadata": {
      "needs_background": "light"
     },
     "output_type": "display_data"
    }
   ],
   "source": [
    "#matriz_conf = confusion_matrix(y_true = y,y_pred = rl_pred)\n",
    "#Matriz de confusão\n",
    "sns.heatmap(confusion_matrix(y_teste, rl_pred), cmap='OrRd', annot=True, fmt='2.0f')\n",
    "plt.title('Regressão Logística')\n",
    "plt.ylabel('P R E V I S T O')\n",
    "plt.xlabel('R E A L')\n",
    "plt.show()"
   ]
  },
  {
   "cell_type": "code",
   "execution_count": 68,
   "id": "894563c3",
   "metadata": {},
   "outputs": [
    {
     "name": "stdout",
     "output_type": "stream",
     "text": [
      "Acurácia:0.76\n",
      "Especificidade:0.73\n",
      "Precisão:0.75\n",
      "Recall ou Sensibilidade:0.78\n",
      "F1-Score:0.76\n",
      "Kappa:0.51\n",
      "Curva ROC:0.75\n"
     ]
    }
   ],
   "source": [
    "#Acurácia, Sensibilidade positiva (VP/(VP+FN), Especificidade, Precisão, Recall, F1-Score\n",
    "acuracia_rl = accuracy_score(y_teste,rl_pred)\n",
    "especificidade_rl = specificity_score(y_teste,rl_pred)\n",
    "precisao_rl = precision_score(y_teste,rl_pred)\n",
    "recall_rl = recall_score(y_teste,rl_pred)\n",
    "f1Score_rl = f1_score(y_teste,rl_pred)\n",
    "curva_roc_escore_rl = roc_auc_score(y_teste,rl_pred)\n",
    "kappa_rl = cohen_kappa_score(y_teste,rl_pred)\n",
    "print(f'Acurácia:{round(acuracia_rl,2)}')\n",
    "print(f'Especificidade:{round(especificidade_rl,2)}')\n",
    "print(f'Precisão:{round(precisao_rl,2)}')\n",
    "print(f'Recall ou Sensibilidade:{round(recall_rl,2)}')\n",
    "print(f'F1-Score:{round(f1Score_rl,2)}')\n",
    "print(f'Kappa:{round(kappa_rl,2)}')\n",
    "print(f'Curva ROC:{round(curva_roc_escore_rl,2)}')"
   ]
  },
  {
   "cell_type": "markdown",
   "id": "1d63b34c",
   "metadata": {},
   "source": [
    "## Curva ROC"
   ]
  },
  {
   "cell_type": "code",
   "execution_count": 115,
   "id": "d6f50deb",
   "metadata": {},
   "outputs": [
    {
     "data": {
      "image/png": "[encoded data removed]",
      "text/plain": [
       "<Figure size 432x288 with 1 Axes>"
      ]
     },
     "metadata": {
      "needs_background": "light"
     },
     "output_type": "display_data"
    }
   ],
   "source": [
    "rfp_rl, rvp_rl,lim1 = roc_curve(y_teste,rl_pred)\n",
    "pyplot.plot(rfp_rl, rvp_rl, marker='.', label='Regressão Logística='+str(round(curva_roc_escore_rl,2)),color='yellow')\n",
    "pyplot.plot(rfp_rf, rvp_rf, marker='.', label='Random Forest='+str(round(curva_roc_escore_rf,2)),color='blue')\n",
    "pyplot.plot([0, 1], [0, 1], color='black', linestyle='--')\n",
    "# alterando o nome dos eixos\n",
    "pyplot.xlabel('1- Especificidade (FP)')\n",
    "pyplot.ylabel('Sensibilidade (VP)')\n",
    "pyplot.legend()\n",
    "# Mostrando o gráfico\n",
    "pyplot.show()"
   ]
  },
  {
   "cell_type": "markdown",
   "id": "df2f8098",
   "metadata": {},
   "source": [
    "## Aplica o modelo de predição com SVM e Wrapper"
   ]
  },
  {
   "cell_type": "code",
   "execution_count": 206,
   "id": "e1b02627",
   "metadata": {},
   "outputs": [],
   "source": [
    "from sklearn.svm import SVC\n",
    "svc = SVC(C=1, kernel='linear')"
   ]
  },
  {
   "cell_type": "code",
   "execution_count": null,
   "id": "8bd76662",
   "metadata": {},
   "outputs": [],
   "source": [
    "sfs3 = SFS(estimator=svc, \n",
    "           k_features=8,\n",
    "           forward=True, \n",
    "           floating=False, \n",
    "           scoring='accuracy',\n",
    "           cv=5)"
   ]
  },
  {
   "cell_type": "code",
   "execution_count": null,
   "id": "4d7a8b22",
   "metadata": {
    "scrolled": true
   },
   "outputs": [],
   "source": [
    "sfs3 = sfs3.fit(X,y)"
   ]
  },
  {
   "cell_type": "markdown",
   "id": "f4a39aa6",
   "metadata": {},
   "source": [
    "## Exibindo as principais features"
   ]
  },
  {
   "cell_type": "code",
   "execution_count": null,
   "id": "149d7df3",
   "metadata": {},
   "outputs": [],
   "source": [
    "fig = plot_sfs(sfs3.get_metric_dict(), kind='std_dev')\n",
    "plt.title('Sequential Forward Selection (std_dev)')\n",
    "plt.grid()\n",
    "plt.show()"
   ]
  },
  {
   "cell_type": "code",
   "execution_count": null,
   "id": "a6f90e11",
   "metadata": {},
   "outputs": [],
   "source": [
    "#Feature importance\n",
    "sfs3_metrics = pd.DataFrame.from_dict(sfs3.get_metric_dict()).T\n",
    "# 8 features have better metrics.\n",
    "sfs3_features = list(sfs3_metrics['feature_names'][8])\n",
    "print(\"Features Selected:\", sfs3_features)"
   ]
  },
  {
   "cell_type": "markdown",
   "id": "7ee73059",
   "metadata": {},
   "source": [
    "## Aplicando as features e predizer"
   ]
  },
  {
   "cell_type": "code",
   "execution_count": null,
   "id": "dc98ffb6",
   "metadata": {},
   "outputs": [],
   "source": [
    "X_train_sfs3 = sfs3.transform(X)\n",
    "X_test_sfs3 = sfs3.transform(X_teste)"
   ]
  },
  {
   "cell_type": "code",
   "execution_count": null,
   "id": "f779d2e2",
   "metadata": {},
   "outputs": [],
   "source": [
    "svm.fit(X_train_sfs3,y)\n",
    "svm_pred = clf_rl.predict(X_test_sfs3)\n",
    "y_pred = clf_rl.predict_proba(X_test_sfs3)"
   ]
  },
  {
   "cell_type": "code",
   "execution_count": null,
   "id": "6a2472bc",
   "metadata": {},
   "outputs": [],
   "source": [
    "print(svm_pred)\n",
    "print(y_pred"
   ]
  },
  {
   "cell_type": "markdown",
   "id": "fa6e0d23",
   "metadata": {},
   "source": [
    "## Validação cruzada no conjunto reduzido"
   ]
  },
  {
   "cell_type": "code",
   "execution_count": null,
   "id": "fe7e5652",
   "metadata": {},
   "outputs": [],
   "source": [
    "kfold = KFold(n_splits=10, shuffle=True, random_state=123)\n",
    "resultado_svm = cross_val_score(fit_svm, X, y, cv=kfold, scoring='accuracy')"
   ]
  },
  {
   "cell_type": "code",
   "execution_count": null,
   "id": "05682cf5",
   "metadata": {},
   "outputs": [],
   "source": [
    "print('O score cross-validado do Regressão Logística é:', resultado_svm.mean()"
   ]
  },
  {
   "cell_type": "code",
   "execution_count": null,
   "id": "0ec73943",
   "metadata": {},
   "outputs": [],
   "source": [
    "resultado_svm"
   ]
  },
  {
   "cell_type": "markdown",
   "id": "ee6f2329",
   "metadata": {},
   "source": [
    "## Calculando as métricas"
   ]
  },
  {
   "cell_type": "code",
   "execution_count": null,
   "id": "dd96fc07",
   "metadata": {},
   "outputs": [],
   "source": [
    "#Matriz de confusão\n",
    "sns.heatmap(confusion_matrix(y_teste, svm_pred), cmap='OrRd', annot=True, fmt='2.0f')\n",
    "plt.title('SVM')\n",
    "plt.ylabel('P R E V I S T O')\n",
    "plt.xlabel('R E A L')\n",
    "plt.show()"
   ]
  },
  {
   "cell_type": "code",
   "execution_count": null,
   "id": "bb79d427",
   "metadata": {},
   "outputs": [],
   "source": [
    "#Acurácia, Sensibilidade positiva (VP/(VP+FN), Especificidade, Precisão, Recall, F1-Score\n",
    "acuracia_svm = accuracy_score(y_teste,svm_pred)\n",
    "especificidade_svm = specificity_score(y_teste,svm_pred)\n",
    "precisao_svm = precision_score(y_teste,svm_pred)\n",
    "recall_svm = recall_score(y_teste,svm_pred)\n",
    "f1Score_svm = f1_score(y_teste,svm_pred)\n",
    "curva_roc_escore_svm = roc_auc_score(y_teste,svm_pred)\n",
    "kappa_svm = cohen_kappa_score(y_teste,svm_pred)\n",
    "print(f'Acurácia:{round(acuracia_rl,2)}')\n",
    "print(f'Especificidade:{round(especificidade_svm,2)}')\n",
    "print(f'Precisão:{round(precisao_rl,2)}')\n",
    "print(f'Recall ou Sensibilidade:{round(recall_svm,2)}')\n",
    "print(f'F1-Score:{round(f1Score_svm,2)}')\n",
    "print(f'Kappa:{round(kappa_svm,2)}')\n",
    "print(f'Curva ROC:{round(curva_roc_escore_svm,2)}')"
   ]
  },
  {
   "cell_type": "markdown",
   "id": "6bdfad90",
   "metadata": {},
   "source": [
    "## Curva ROC"
   ]
  },
  {
   "cell_type": "code",
   "execution_count": null,
   "id": "d83c1b64",
   "metadata": {},
   "outputs": [],
   "source": [
    "rfp_rl, rvp_rl,lim1 = roc_curve(y_teste,rl_pred)\n",
    "rfp_rf, rvp_rf,lim2 = roc_curve(y_teste,rf_pred)\n",
    "#rfp_svm, rvp_svm,lim3 = roc_curve(y_teste,svm_pred)\n",
    "pyplot.plot(rfp_rl, rvp_rl, marker='.', label='Regressão Logística='+str(round(curva_roc_escore_rl,2)),color='yellow')\n",
    "pyplot.plot(rfp_rf, rvp_rf, marker='.', label='Random Forest='+str(round(curva_roc_escore_rf,2)),color='blue')\n",
    "#pyplot.plot(rfp_svm, rvp_svm, marker='.', label='SVM='+str(round(curva_roc_escore_svm,2)),color='red')\n",
    "pyplot.plot([0, 1], [0, 1], color='black', linestyle='--')\n",
    "# alterando o nome dos eixos\n",
    "pyplot.xlabel('1- Especificidade (FP)')\n",
    "pyplot.ylabel('Sensibilidade (VP)')\n",
    "pyplot.legend()\n",
    "# Mostrando o gráfico\n",
    "pyplot.show()"
   ]
  },
  {
   "cell_type": "markdown",
   "id": "c109208e",
   "metadata": {},
   "source": [
    "# Autoencoders"
   ]
  },
  {
   "cell_type": "code",
   "execution_count": 116,
   "id": "196eda61",
   "metadata": {},
   "outputs": [],
   "source": [
    "# Importanfo as bibliotecas\n",
    "from sklearn.datasets import make_classification\n",
    "from sklearn.preprocessing import MinMaxScaler\n",
    "from sklearn.model_selection import train_test_split\n",
    "from tensorflow.keras.models import Model\n",
    "from tensorflow.keras.layers import Input\n",
    "from tensorflow.keras.layers import Dense\n",
    "from tensorflow.keras.layers import LeakyReLU\n",
    "from tensorflow.keras.layers import BatchNormalization\n",
    "from tensorflow.keras.utils import plot_model\n",
    "from matplotlib import pyplot"
   ]
  },
  {
   "cell_type": "code",
   "execution_count": 117,
   "id": "57ebbe43",
   "metadata": {},
   "outputs": [
    {
     "name": "stdout",
     "output_type": "stream",
     "text": [
      "(68111, 86) (68111,) (29191, 86) (29191,)\n"
     ]
    }
   ],
   "source": [
    "#Verificando X e Y\n",
    "print(X.shape, y.shape, X_teste.shape, y_teste.shape)"
   ]
  },
  {
   "cell_type": "code",
   "execution_count": 184,
   "id": "5338e8d5",
   "metadata": {},
   "outputs": [],
   "source": [
    "#Pegando os números de input\n",
    "n_inputs = X.shape[1]\n",
    "#definindo o encoder\n",
    "visible = Input(shape=(n_inputs,))"
   ]
  },
  {
   "cell_type": "code",
   "execution_count": 185,
   "id": "c99985ff",
   "metadata": {},
   "outputs": [],
   "source": [
    "#Encoder nível 1. Definindo a primeira camada oculta\n",
    "#e = Dense(n_inputs*2)(visible)\n",
    "e = Dense(n_inputs)(visible)\n",
    "#Usando a nomalização em lote para garantir que o modelo aprenda bem\n",
    "e = BatchNormalization()(e)\n",
    "#Definindo a função de ativação Relu\n",
    "e = LeakyReLU()(e)"
   ]
  },
  {
   "cell_type": "code",
   "execution_count": 186,
   "id": "89874298",
   "metadata": {},
   "outputs": [],
   "source": [
    "# Encoder nível 2. Definindo a segunda camada oculta\n",
    "e = Dense(n_inputs)(visible)\n",
    "#Usando a nomalização em lote para garantir que o modelo aprenda bem\n",
    "e = BatchNormalization()(e)\n",
    "#Definindo a função de ativação Relu\n",
    "e = LeakyReLU()(e)"
   ]
  },
  {
   "cell_type": "code",
   "execution_count": 187,
   "id": "4f35ef4d",
   "metadata": {},
   "outputs": [],
   "source": [
    "#Camada de redução. aqui que acontece a redução\n",
    "#n_bottleneck = round(float(n_inputs) / 2.0)\n",
    "#n_bottleneck = 8\n",
    "#Teste com 15 e 20 - não houve diferença\n",
    "n_bottleneck = 15\n",
    "#n_bottleneck = 20\n",
    "bottleneck = Dense(n_bottleneck)(e)"
   ]
  },
  {
   "cell_type": "code",
   "execution_count": 188,
   "id": "671f272d",
   "metadata": {},
   "outputs": [],
   "source": [
    "#Definindo o decoder, level 1\n",
    "d = Dense(n_inputs)(bottleneck)\n",
    "d = BatchNormalization()(d)\n",
    "d = LeakyReLU()(d)"
   ]
  },
  {
   "cell_type": "code",
   "execution_count": 189,
   "id": "029923cb",
   "metadata": {},
   "outputs": [],
   "source": [
    "#Definindo o decoder nível 2\n",
    "#d = Dense(n_inputs*2)(d)\n",
    "d = Dense(n_inputs)(d)\n",
    "d = BatchNormalization()(d)\n",
    "d = LeakyReLU()(d)"
   ]
  },
  {
   "cell_type": "code",
   "execution_count": 190,
   "id": "87baa8b5",
   "metadata": {},
   "outputs": [],
   "source": [
    "#Camada de saída usando a função de ativação\n",
    "#É a função mais básica porque não altera a saída de um neurônio\n",
    "#output = Dense(n_inputs, activation='linear')(d)\n",
    "output = Dense(n_inputs, activation='relu')(d)"
   ]
  },
  {
   "cell_type": "code",
   "execution_count": 191,
   "id": "b78ffd22",
   "metadata": {},
   "outputs": [],
   "source": [
    "#definindo o modelo de autoencoder model\n",
    "model = Model(inputs=visible, outputs=output)"
   ]
  },
  {
   "cell_type": "code",
   "execution_count": 192,
   "id": "dfb1a220",
   "metadata": {},
   "outputs": [],
   "source": [
    "#Compilando o modelo autoencoder\n",
    "#adam =  função com base no método de descida gradiente estocástico. Tende a convergir rapidamente.\n",
    "#binary_crossentropy  = um função utilizada para problemas de classificação binária (0 ou 1)\n",
    "# mse = calcula a média dos quadrados dos erros entre rótulos e previsões\n",
    "#model.compile(optimizer='adam', loss='binary_crossentropy')\n",
    "#RMSprop\n",
    "#model.compile(optimizer='adam', loss='mse')\n",
    "model.compile(optimizer='rmsprop', loss='mse')"
   ]
  },
  {
   "cell_type": "code",
   "execution_count": 193,
   "id": "7bf45955",
   "metadata": {},
   "outputs": [
    {
     "name": "stdout",
     "output_type": "stream",
     "text": [
      "Epoch 1/100\n",
      "1065/1065 - 5s - loss: 0.0017 - val_loss: 5.9665e-04\n",
      "Epoch 2/100\n",
      "1065/1065 - 3s - loss: 3.7619e-04 - val_loss: 4.9441e-04\n",
      "Epoch 3/100\n",
      "1065/1065 - 3s - loss: 2.4884e-04 - val_loss: 0.0010\n",
      "Epoch 4/100\n",
      "1065/1065 - 3s - loss: 1.8864e-04 - val_loss: 6.0207e-04\n",
      "Epoch 5/100\n",
      "1065/1065 - 3s - loss: 1.6599e-04 - val_loss: 5.2995e-04\n",
      "Epoch 6/100\n",
      "1065/1065 - 3s - loss: 1.4825e-04 - val_loss: 3.3400e-04\n",
      "Epoch 7/100\n",
      "1065/1065 - 3s - loss: 1.3908e-04 - val_loss: 1.2132e-04\n",
      "Epoch 8/100\n",
      "1065/1065 - 3s - loss: 1.3642e-04 - val_loss: 2.8650e-04\n",
      "Epoch 9/100\n",
      "1065/1065 - 3s - loss: 1.2624e-04 - val_loss: 0.0011\n",
      "Epoch 10/100\n",
      "1065/1065 - 3s - loss: 1.2098e-04 - val_loss: 1.2710e-04\n",
      "Epoch 11/100\n",
      "1065/1065 - 3s - loss: 1.2622e-04 - val_loss: 2.3704e-04\n",
      "Epoch 12/100\n",
      "1065/1065 - 3s - loss: 1.1385e-04 - val_loss: 2.5651e-04\n",
      "Epoch 13/100\n",
      "1065/1065 - 3s - loss: 1.1223e-04 - val_loss: 4.2363e-04\n",
      "Epoch 14/100\n",
      "1065/1065 - 3s - loss: 1.0444e-04 - val_loss: 2.7841e-04\n",
      "Epoch 15/100\n",
      "1065/1065 - 3s - loss: 1.0090e-04 - val_loss: 2.9849e-04\n",
      "Epoch 16/100\n",
      "1065/1065 - 3s - loss: 9.6207e-05 - val_loss: 1.4485e-04\n",
      "Epoch 17/100\n",
      "1065/1065 - 3s - loss: 9.3679e-05 - val_loss: 2.4550e-04\n",
      "Epoch 18/100\n",
      "1065/1065 - 3s - loss: 8.8571e-05 - val_loss: 1.4967e-04\n",
      "Epoch 19/100\n",
      "1065/1065 - 3s - loss: 8.6418e-05 - val_loss: 5.2950e-04\n",
      "Epoch 20/100\n",
      "1065/1065 - 3s - loss: 8.8517e-05 - val_loss: 7.2432e-04\n",
      "Epoch 21/100\n",
      "1065/1065 - 3s - loss: 8.1130e-05 - val_loss: 1.1354e-04\n",
      "Epoch 22/100\n",
      "1065/1065 - 3s - loss: 7.8891e-05 - val_loss: 2.4378e-04\n",
      "Epoch 23/100\n",
      "1065/1065 - 3s - loss: 7.5094e-05 - val_loss: 3.1342e-04\n",
      "Epoch 24/100\n",
      "1065/1065 - 3s - loss: 7.2954e-05 - val_loss: 1.4669e-04\n",
      "Epoch 25/100\n",
      "1065/1065 - 3s - loss: 6.9177e-05 - val_loss: 1.2292e-04\n",
      "Epoch 26/100\n",
      "1065/1065 - 3s - loss: 6.7962e-05 - val_loss: 1.2200e-04\n",
      "Epoch 27/100\n",
      "1065/1065 - 3s - loss: 6.1394e-05 - val_loss: 9.7229e-05\n",
      "Epoch 28/100\n",
      "1065/1065 - 3s - loss: 5.6933e-05 - val_loss: 1.4576e-04\n",
      "Epoch 29/100\n",
      "1065/1065 - 3s - loss: 5.7020e-05 - val_loss: 1.5671e-04\n",
      "Epoch 30/100\n",
      "1065/1065 - 3s - loss: 5.1426e-05 - val_loss: 1.2951e-04\n",
      "Epoch 31/100\n",
      "1065/1065 - 3s - loss: 4.7991e-05 - val_loss: 1.1328e-04\n",
      "Epoch 32/100\n",
      "1065/1065 - 3s - loss: 4.5251e-05 - val_loss: 7.7120e-05\n",
      "Epoch 33/100\n",
      "1065/1065 - 3s - loss: 4.0219e-05 - val_loss: 1.0561e-04\n",
      "Epoch 34/100\n",
      "1065/1065 - 3s - loss: 3.4490e-05 - val_loss: 1.1142e-04\n",
      "Epoch 35/100\n",
      "1065/1065 - 3s - loss: 3.1344e-05 - val_loss: 7.7476e-05\n",
      "Epoch 36/100\n",
      "1065/1065 - 3s - loss: 2.7139e-05 - val_loss: 4.4225e-05\n",
      "Epoch 37/100\n",
      "1065/1065 - 3s - loss: 2.4710e-05 - val_loss: 4.0980e-05\n",
      "Epoch 38/100\n",
      "1065/1065 - 3s - loss: 2.2209e-05 - val_loss: 3.5413e-05\n",
      "Epoch 39/100\n",
      "1065/1065 - 3s - loss: 2.1193e-05 - val_loss: 4.4636e-05\n",
      "Epoch 40/100\n",
      "1065/1065 - 3s - loss: 1.9782e-05 - val_loss: 3.1291e-05\n",
      "Epoch 41/100\n",
      "1065/1065 - 3s - loss: 1.9219e-05 - val_loss: 2.6047e-05\n",
      "Epoch 42/100\n",
      "1065/1065 - 3s - loss: 1.9027e-05 - val_loss: 2.8879e-05\n",
      "Epoch 43/100\n",
      "1065/1065 - 3s - loss: 1.8548e-05 - val_loss: 3.6320e-05\n",
      "Epoch 44/100\n",
      "1065/1065 - 3s - loss: 1.8386e-05 - val_loss: 1.9782e-05\n",
      "Epoch 45/100\n",
      "1065/1065 - 3s - loss: 1.8137e-05 - val_loss: 2.8444e-05\n",
      "Epoch 46/100\n",
      "1065/1065 - 3s - loss: 1.7992e-05 - val_loss: 1.9380e-05\n",
      "Epoch 47/100\n",
      "1065/1065 - 3s - loss: 1.7619e-05 - val_loss: 2.2078e-05\n",
      "Epoch 48/100\n",
      "1065/1065 - 3s - loss: 1.7734e-05 - val_loss: 1.9394e-05\n",
      "Epoch 49/100\n",
      "1065/1065 - 3s - loss: 1.7379e-05 - val_loss: 2.4637e-05\n",
      "Epoch 50/100\n",
      "1065/1065 - 3s - loss: 1.7399e-05 - val_loss: 2.1447e-05\n",
      "Epoch 51/100\n",
      "1065/1065 - 3s - loss: 1.7349e-05 - val_loss: 1.8166e-05\n",
      "Epoch 52/100\n",
      "1065/1065 - 3s - loss: 1.7000e-05 - val_loss: 1.7388e-05\n",
      "Epoch 53/100\n",
      "1065/1065 - 3s - loss: 1.6913e-05 - val_loss: 1.7592e-05\n",
      "Epoch 54/100\n",
      "1065/1065 - 3s - loss: 1.7067e-05 - val_loss: 1.4072e-05\n",
      "Epoch 55/100\n",
      "1065/1065 - 3s - loss: 1.6927e-05 - val_loss: 1.4647e-05\n",
      "Epoch 56/100\n",
      "1065/1065 - 3s - loss: 1.6818e-05 - val_loss: 1.6558e-05\n",
      "Epoch 57/100\n",
      "1065/1065 - 3s - loss: 1.6805e-05 - val_loss: 2.1256e-05\n",
      "Epoch 58/100\n",
      "1065/1065 - 3s - loss: 1.6606e-05 - val_loss: 1.4013e-05\n",
      "Epoch 59/100\n",
      "1065/1065 - 3s - loss: 1.6454e-05 - val_loss: 1.6121e-05\n",
      "Epoch 60/100\n",
      "1065/1065 - 3s - loss: 1.6603e-05 - val_loss: 2.0656e-05\n",
      "Epoch 61/100\n",
      "1065/1065 - 3s - loss: 1.6376e-05 - val_loss: 1.4245e-05\n",
      "Epoch 62/100\n",
      "1065/1065 - 3s - loss: 1.6365e-05 - val_loss: 2.8285e-05\n",
      "Epoch 63/100\n",
      "1065/1065 - 3s - loss: 1.6392e-05 - val_loss: 2.8033e-05\n",
      "Epoch 64/100\n",
      "1065/1065 - 3s - loss: 1.6209e-05 - val_loss: 1.6032e-05\n",
      "Epoch 65/100\n",
      "1065/1065 - 3s - loss: 1.6311e-05 - val_loss: 1.4234e-05\n",
      "Epoch 66/100\n",
      "1065/1065 - 3s - loss: 1.6294e-05 - val_loss: 1.4852e-05\n",
      "Epoch 67/100\n",
      "1065/1065 - 3s - loss: 1.6184e-05 - val_loss: 1.5530e-05\n",
      "Epoch 68/100\n",
      "1065/1065 - 3s - loss: 1.6072e-05 - val_loss: 1.8174e-05\n",
      "Epoch 69/100\n",
      "1065/1065 - 3s - loss: 1.5909e-05 - val_loss: 1.4763e-05\n",
      "Epoch 70/100\n",
      "1065/1065 - 4s - loss: 1.5990e-05 - val_loss: 1.8528e-05\n",
      "Epoch 71/100\n",
      "1065/1065 - 3s - loss: 1.5945e-05 - val_loss: 1.6744e-05\n",
      "Epoch 72/100\n",
      "1065/1065 - 3s - loss: 1.5824e-05 - val_loss: 1.5455e-05\n",
      "Epoch 73/100\n",
      "1065/1065 - 3s - loss: 1.5803e-05 - val_loss: 2.2769e-05\n",
      "Epoch 74/100\n",
      "1065/1065 - 3s - loss: 1.5912e-05 - val_loss: 1.4411e-05\n",
      "Epoch 75/100\n",
      "1065/1065 - 3s - loss: 1.5731e-05 - val_loss: 1.6265e-05\n",
      "Epoch 76/100\n",
      "1065/1065 - 3s - loss: 1.5521e-05 - val_loss: 2.0401e-05\n",
      "Epoch 77/100\n",
      "1065/1065 - 3s - loss: 1.5717e-05 - val_loss: 1.8111e-05\n",
      "Epoch 78/100\n",
      "1065/1065 - 3s - loss: 1.5627e-05 - val_loss: 1.3773e-05\n",
      "Epoch 79/100\n",
      "1065/1065 - 3s - loss: 1.5670e-05 - val_loss: 1.6638e-05\n",
      "Epoch 80/100\n",
      "1065/1065 - 3s - loss: 1.5542e-05 - val_loss: 1.7687e-05\n",
      "Epoch 81/100\n",
      "1065/1065 - 3s - loss: 1.5556e-05 - val_loss: 1.4039e-05\n",
      "Epoch 82/100\n",
      "1065/1065 - 3s - loss: 1.5389e-05 - val_loss: 1.6485e-05\n",
      "Epoch 83/100\n",
      "1065/1065 - 3s - loss: 1.5452e-05 - val_loss: 1.5365e-05\n",
      "Epoch 84/100\n",
      "1065/1065 - 3s - loss: 1.5324e-05 - val_loss: 1.4564e-05\n",
      "Epoch 85/100\n",
      "1065/1065 - 3s - loss: 1.5266e-05 - val_loss: 1.3952e-05\n",
      "Epoch 86/100\n",
      "1065/1065 - 3s - loss: 1.5307e-05 - val_loss: 1.5201e-05\n",
      "Epoch 87/100\n",
      "1065/1065 - 3s - loss: 1.5289e-05 - val_loss: 1.5502e-05\n",
      "Epoch 88/100\n",
      "1065/1065 - 3s - loss: 1.5341e-05 - val_loss: 1.8646e-05\n",
      "Epoch 89/100\n",
      "1065/1065 - 3s - loss: 1.5244e-05 - val_loss: 1.9855e-05\n",
      "Epoch 90/100\n",
      "1065/1065 - 3s - loss: 1.5207e-05 - val_loss: 1.4617e-05\n",
      "Epoch 91/100\n",
      "1065/1065 - 3s - loss: 1.5125e-05 - val_loss: 1.4171e-05\n",
      "Epoch 92/100\n",
      "1065/1065 - 4s - loss: 1.5278e-05 - val_loss: 1.3853e-05\n",
      "Epoch 93/100\n",
      "1065/1065 - 3s - loss: 1.5128e-05 - val_loss: 1.5485e-05\n",
      "Epoch 94/100\n",
      "1065/1065 - 3s - loss: 1.5085e-05 - val_loss: 1.3918e-05\n",
      "Epoch 95/100\n",
      "1065/1065 - 3s - loss: 1.5082e-05 - val_loss: 1.4484e-05\n",
      "Epoch 96/100\n",
      "1065/1065 - 3s - loss: 1.5014e-05 - val_loss: 1.3600e-05\n",
      "Epoch 97/100\n",
      "1065/1065 - 3s - loss: 1.4970e-05 - val_loss: 1.3773e-05\n",
      "Epoch 98/100\n",
      "1065/1065 - 3s - loss: 1.5144e-05 - val_loss: 1.5484e-05\n",
      "Epoch 99/100\n",
      "1065/1065 - 3s - loss: 1.5088e-05 - val_loss: 1.2852e-05\n",
      "Epoch 100/100\n",
      "1065/1065 - 3s - loss: 1.4942e-05 - val_loss: 1.9288e-05\n"
     ]
    }
   ],
   "source": [
    "#Ajustar o modelo autoencoder para reconstruir a entrada \n",
    "history = model.fit(X,X, epochs=100, batch_size=64, verbose=2, validation_data=(X_teste,X_teste))"
   ]
  },
  {
   "cell_type": "code",
   "execution_count": 194,
   "id": "d1967f53",
   "metadata": {},
   "outputs": [
    {
     "data": {
      "image/png": "[encoded data removed]",
      "text/plain": [
       "<Figure size 432x288 with 1 Axes>"
      ]
     },
     "metadata": {
      "needs_background": "light"
     },
     "output_type": "display_data"
    }
   ],
   "source": [
    "# Com a função de perda MSE 100 cópia\n",
    "pyplot.plot(history.history['loss'], label='treinamento')\n",
    "pyplot.plot(history.history['val_loss'], label='teste')\n",
    "pyplot.legend()\n",
    "pyplot.show()"
   ]
  },
  {
   "cell_type": "code",
   "execution_count": 195,
   "id": "826abfa8",
   "metadata": {},
   "outputs": [],
   "source": [
    "# definir um modelo de codificador (sem o decodificador) \n",
    "encoder = Model(inputs=visible, outputs=bottleneck)"
   ]
  },
  {
   "cell_type": "code",
   "execution_count": 196,
   "id": "b3578338",
   "metadata": {},
   "outputs": [
    {
     "name": "stdout",
     "output_type": "stream",
     "text": [
      "WARNING:tensorflow:Compiled the loaded model, but the compiled metrics have yet to be built. `model.compile_metrics` will be empty until you train or evaluate the model.\n"
     ]
    }
   ],
   "source": [
    "# salvo o encoder para usar depois\n",
    "encoder.save('encoder_projeto.h5')"
   ]
  },
  {
   "cell_type": "markdown",
   "id": "511cdb31",
   "metadata": {},
   "source": [
    "## Treinando um modelo Random Forest com a rede neural"
   ]
  },
  {
   "cell_type": "code",
   "execution_count": 197,
   "id": "9c5fab48",
   "metadata": {},
   "outputs": [
    {
     "name": "stdout",
     "output_type": "stream",
     "text": [
      "WARNING:tensorflow:No training configuration found in the save file, so the model was *not* compiled. Compile it manually.\n"
     ]
    }
   ],
   "source": [
    "# Carrega o modelo\n",
    "from tensorflow.keras.models import load_model\n",
    "encoder = load_model('encoder_projeto.h5')"
   ]
  },
  {
   "cell_type": "code",
   "execution_count": 198,
   "id": "58a7896c",
   "metadata": {},
   "outputs": [],
   "source": [
    "# Treinando no encoder\n",
    "X_train_encode = encoder.predict(X)\n",
    "# encode the test data\n",
    "X_test_encode = encoder.predict(X_teste)"
   ]
  },
  {
   "cell_type": "code",
   "execution_count": 199,
   "id": "4e847245",
   "metadata": {},
   "outputs": [
    {
     "name": "stdout",
     "output_type": "stream",
     "text": [
      "0.8152512760782433\n"
     ]
    }
   ],
   "source": [
    "#Define o modelo copia MSE\n",
    "floresta = RandomForestClassifier(n_estimators = 10, criterion = 'entropy',random_state=123) \n",
    "#Ajuste do modelo do conjunto de treinamento\n",
    "floresta.fit(X_train_encode,y)\n",
    "#Faz a predição no conjunto de teste\n",
    "pred_rf = floresta.predict(X_test_encode)\n",
    "#Calcula accuracy\n",
    "acc = accuracy_score(y_teste,pred_rf)\n",
    "print(acc)"
   ]
  },
  {
   "cell_type": "markdown",
   "id": "a899e455",
   "metadata": {},
   "source": [
    "## Validação cruzada no conjunto reduzido"
   ]
  },
  {
   "cell_type": "code",
   "execution_count": null,
   "id": "b0c561f9",
   "metadata": {},
   "outputs": [],
   "source": [
    "kfold = KFold(n_splits=10, shuffle=True, random_state=123)\n",
    "resultado_rf = cross_val_score(floresta, X, y, cv=kfold, scoring='accuracy')"
   ]
  },
  {
   "cell_type": "code",
   "execution_count": null,
   "id": "3f740c81",
   "metadata": {},
   "outputs": [],
   "source": [
    "print('O score cross-validado do Regressão Logística é:', resultado_rf.mean()"
   ]
  },
  {
   "cell_type": "code",
   "execution_count": null,
   "id": "2b7720cd",
   "metadata": {},
   "outputs": [],
   "source": [
    "resultado_rf"
   ]
  },
  {
   "cell_type": "markdown",
   "id": "d290cbc3",
   "metadata": {},
   "source": [
    "## Calculando as métricas"
   ]
  },
  {
   "cell_type": "code",
   "execution_count": 200,
   "id": "0c2b255e",
   "metadata": {},
   "outputs": [
    {
     "data": {
      "image/png": "[encoded data removed]",
      "text/plain": [
       "<Figure size 432x288 with 2 Axes>"
      ]
     },
     "metadata": {
      "needs_background": "light"
     },
     "output_type": "display_data"
    }
   ],
   "source": [
    "#Matriz de confusão\n",
    "sns.heatmap(confusion_matrix(y_teste, pred_rf), cmap='OrRd', annot=True, fmt='2.0f')\n",
    "plt.title('Random Forest')\n",
    "plt.ylabel('P R E V I S T O')\n",
    "plt.xlabel('R E A L')\n",
    "plt.show()"
   ]
  },
  {
   "cell_type": "code",
   "execution_count": 212,
   "id": "656b83d1",
   "metadata": {},
   "outputs": [
    {
     "name": "stdout",
     "output_type": "stream",
     "text": [
      "Acurácia:0.82\n",
      "Especificidade:0.82\n",
      "Precisão:0.82\n",
      "Recall ou Sensibilidade:0.81\n",
      "F1-Score:0.81\n",
      "Kappa:0.63\n",
      "Curva ROC:0.82\n"
     ]
    }
   ],
   "source": [
    "#Acurácia, Sensibilidade positiva (VP/(VP+FN), Especificidade, Precisão, Recall, F1-Score\n",
    "acuracia_rf_rede = accuracy_score(y_teste,pred_rf)\n",
    "especificidade_rf_rede = specificity_score(y_teste,pred_rf)\n",
    "precisao_rf_rede = precision_score(y_teste,pred_rf)\n",
    "recall_rf_rede = recall_score(y_teste,pred_rf)\n",
    "f1Score_rf_rede = f1_score(y_teste,pred_rf)\n",
    "curva_roc_escore_rf_rede = roc_auc_score(y_teste,pred_rf)\n",
    "kappa_rf_rede = cohen_kappa_score(y_teste,pred_rf)\n",
    "print(f'Acurácia:{round(acuracia_rf_rede,2)}')\n",
    "print(f'Especificidade:{round(especificidade_rf_rede,2)}')\n",
    "print(f'Precisão:{round(precisao_rf_rede,2)}')\n",
    "print(f'Recall ou Sensibilidade:{round(recall_rf_rede,2)}')\n",
    "print(f'F1-Score:{round(f1Score_rf_rede,2)}')\n",
    "print(f'Kappa:{round(kappa_rf_rede,2)}')\n",
    "print(f'Curva ROC:{round(curva_roc_escore_rf_rede,2)}')"
   ]
  },
  {
   "cell_type": "markdown",
   "id": "af0e00a3",
   "metadata": {},
   "source": [
    "## Treinando um modelo de Regressão Logística com a rede neural."
   ]
  },
  {
   "cell_type": "code",
   "execution_count": 202,
   "id": "70140bf7",
   "metadata": {},
   "outputs": [
    {
     "name": "stdout",
     "output_type": "stream",
     "text": [
      "0.7518755780891371\n"
     ]
    }
   ],
   "source": [
    "#Define o modelo\n",
    "model = LogisticRegression(max_iter=2000)\n",
    "#Ajuste do modelo do conjunto de treinamento\n",
    "model.fit(X_train_encode,y)\n",
    "#Faz a predição no conjunto de teste\n",
    "pred_rl = model.predict(X_test_encode)\n",
    "#Calcula accuracy\n",
    "acc = accuracy_score(y_teste,pred_rl)\n",
    "print(acc)"
   ]
  },
  {
   "cell_type": "markdown",
   "id": "73cb8369",
   "metadata": {},
   "source": [
    "## Validação cruzada no conjunto reduzido"
   ]
  },
  {
   "cell_type": "code",
   "execution_count": null,
   "id": "453c416e",
   "metadata": {},
   "outputs": [],
   "source": [
    "kfold = KFold(n_splits=10, shuffle=True, random_state=123)\n",
    "resultado_rl = cross_val_score(model, X, y, cv=kfold, scoring='accuracy')"
   ]
  },
  {
   "cell_type": "code",
   "execution_count": null,
   "id": "21ece253",
   "metadata": {},
   "outputs": [],
   "source": [
    "print('O score cross-validado do Regressão Logística é:', resultado_rl.mean()"
   ]
  },
  {
   "cell_type": "code",
   "execution_count": null,
   "id": "0de9ec88",
   "metadata": {},
   "outputs": [],
   "source": [
    "resultado_rl"
   ]
  },
  {
   "cell_type": "markdown",
   "id": "e71bae20",
   "metadata": {},
   "source": [
    "## Calculando as métricas"
   ]
  },
  {
   "cell_type": "code",
   "execution_count": 203,
   "id": "1e75faff",
   "metadata": {},
   "outputs": [
    {
     "data": {
      "image/png": "[encoded data removed]",
      "text/plain": [
       "<Figure size 432x288 with 2 Axes>"
      ]
     },
     "metadata": {
      "needs_background": "light"
     },
     "output_type": "display_data"
    }
   ],
   "source": [
    "#Matriz de confusão\n",
    "sns.heatmap(confusion_matrix(y_teste, pred_rf), cmap='OrRd', annot=True, fmt='2.0f')\n",
    "plt.title('Regressão Logistica')\n",
    "plt.ylabel('P R E V I S T O')\n",
    "plt.xlabel('R E A L')\n",
    "plt.show()"
   ]
  },
  {
   "cell_type": "code",
   "execution_count": 204,
   "id": "26b8a510",
   "metadata": {},
   "outputs": [
    {
     "name": "stdout",
     "output_type": "stream",
     "text": [
      "Acurácia:0.75\n",
      "Especificidade:0.73\n",
      "Precisão:0.74\n",
      "Recall ou Sensibilidade:0.77\n",
      "F1-Score:0.76\n",
      "Kappa:0.5\n",
      "Curva ROC:0.75\n"
     ]
    }
   ],
   "source": [
    "#Acurácia, Sensibilidade positiva (VP/(VP+FN), Especificidade, Precisão, Recall, F1-Score\n",
    "acuracia_rl_rede = accuracy_score(y_teste,pred_rl)\n",
    "especificidade_rl_rede = specificity_score(y_teste,pred_rl)\n",
    "precisao_rl_rede = precision_score(y_teste,pred_rl)\n",
    "recall_rl_rede = recall_score(y_teste,pred_rl)\n",
    "f1Score_rl_rede = f1_score(y_teste,pred_rl)\n",
    "curva_roc_escore_rl_rede = roc_auc_score(y_teste,pred_rl)\n",
    "kappa_rl_rede = cohen_kappa_score(y_teste,pred_rl)\n",
    "print(f'Acurácia:{round(acuracia_rl_rede,2)}')\n",
    "print(f'Especificidade:{round(especificidade_rl_rede,2)}')\n",
    "print(f'Precisão:{round(precisao_rl_rede,2)}')\n",
    "print(f'Recall ou Sensibilidade:{round(recall_rl_rede,2)}')\n",
    "print(f'F1-Score:{round(f1Score_rl_rede,2)}')\n",
    "print(f'Kappa:{round(kappa_rl_rede,2)}')\n",
    "print(f'Curva ROC:{round(curva_roc_escore_rl_rede,2)}')"
   ]
  },
  {
   "cell_type": "markdown",
   "id": "60497c81",
   "metadata": {},
   "source": [
    "## Treinando um modelo de SVM com a rede neural."
   ]
  },
  {
   "cell_type": "code",
   "execution_count": 207,
   "id": "3546e87e",
   "metadata": {},
   "outputs": [
    {
     "name": "stdout",
     "output_type": "stream",
     "text": [
      "0.7569113767942174\n"
     ]
    }
   ],
   "source": [
    "svc_r = SVC(C=1, kernel='linear')\n",
    "#Ajuste do modelo do conjunto de treinamento\n",
    "svc_r.fit(X_train_encode,y)\n",
    "#Faz a predição no conjunto de teste\n",
    "pred_svm = svc_r.predict(X_test_encode)\n",
    "#Calcula accuracy\n",
    "acc = accuracy_score(y_teste,pred_svm)\n",
    "print(acc)"
   ]
  },
  {
   "cell_type": "markdown",
   "id": "0c5b00bd",
   "metadata": {},
   "source": [
    "## Validação cruzada no conjunto reduzido"
   ]
  },
  {
   "cell_type": "code",
   "execution_count": null,
   "id": "12e7d47a",
   "metadata": {},
   "outputs": [],
   "source": [
    "kfold = KFold(n_splits=10, shuffle=True, random_state=123)\n",
    "resultado_svm = cross_val_score(svc_r, X, y, cv=kfold, scoring='accuracy')"
   ]
  },
  {
   "cell_type": "code",
   "execution_count": null,
   "id": "33b1960e",
   "metadata": {},
   "outputs": [],
   "source": [
    "print('O score cross-validado do Regressão Logística é:', resultado_svm.mean()"
   ]
  },
  {
   "cell_type": "code",
   "execution_count": null,
   "id": "f4712ed3",
   "metadata": {},
   "outputs": [],
   "source": [
    "resultado_svm"
   ]
  },
  {
   "cell_type": "markdown",
   "id": "8a1889fe",
   "metadata": {},
   "source": [
    "## Calculando as métricas"
   ]
  },
  {
   "cell_type": "code",
   "execution_count": 209,
   "id": "c64b1da8",
   "metadata": {},
   "outputs": [
    {
     "data": {
      "image/png": "[encoded data removed]",
      "text/plain": [
       "<Figure size 432x288 with 2 Axes>"
      ]
     },
     "metadata": {
      "needs_background": "light"
     },
     "output_type": "display_data"
    }
   ],
   "source": [
    "#Matriz de confusão\n",
    "sns.heatmap(confusion_matrix(y_teste, pred_svm), cmap='OrRd', annot=True, fmt='2.0f')\n",
    "plt.title('SVM')\n",
    "plt.ylabel('P R E V I S T O')\n",
    "plt.xlabel('R E A L')\n",
    "plt.show()"
   ]
  },
  {
   "cell_type": "code",
   "execution_count": 210,
   "id": "ebc05b61",
   "metadata": {},
   "outputs": [
    {
     "name": "stdout",
     "output_type": "stream",
     "text": [
      "Acurácia:0.76\n",
      "Especificidade:0.73\n",
      "Precisão:0.74\n",
      "Recall ou Sensibilidade:0.78\n",
      "F1-Score:0.76\n",
      "Kappa:0.51\n",
      "Curva ROC:0.76\n"
     ]
    }
   ],
   "source": [
    "#Acurácia, Sensibilidade positiva (VP/(VP+FN), Especificidade, Precisão, Recall, F1-Score\n",
    "acuracia_svm_rede = accuracy_score(y_teste,pred_svm)\n",
    "especificidade_svm_rede = specificity_score(y_teste,pred_svm)\n",
    "precisao_svm_rede = precision_score(y_teste,pred_svm)\n",
    "recall_svm_rede = recall_score(y_teste,pred_svm)\n",
    "f1Score_svm_rede = f1_score(y_teste,pred_rl)\n",
    "curva_roc_escore_svm_rede = roc_auc_score(y_teste,pred_svm)\n",
    "kappa_svm_rede = cohen_kappa_score(y_teste,pred_svm)\n",
    "print(f'Acurácia:{round(acuracia_svm_rede,2)}')\n",
    "print(f'Especificidade:{round(especificidade_svm_rede,2)}')\n",
    "print(f'Precisão:{round(precisao_rl_rede,2)}')\n",
    "print(f'Recall ou Sensibilidade:{round(recall_svm_rede,2)}')\n",
    "print(f'F1-Score:{round(f1Score_svm_rede,2)}')\n",
    "print(f'Kappa:{round(kappa_svm_rede,2)}')\n",
    "print(f'Curva ROC:{round(curva_roc_escore_svm_rede,2)}')"
   ]
  },
  {
   "cell_type": "markdown",
   "id": "46b8ccb2",
   "metadata": {},
   "source": [
    "## Curva ROC: Wrapper X Autoencoder"
   ]
  },
  {
   "cell_type": "code",
   "execution_count": 215,
   "id": "f15e1cb4",
   "metadata": {},
   "outputs": [
    {
     "data": {
      "image/png": "[encoded data removed]",
      "text/plain": [
       "<Figure size 1080x360 with 1 Axes>"
      ]
     },
     "metadata": {
      "needs_background": "light"
     },
     "output_type": "display_data"
    }
   ],
   "source": [
    "#Wrapper\n",
    "rfp_rl, rvp_rl,lim1 = roc_curve(y_teste,rl_pred)\n",
    "rfp_rf, rvp_rf,lim2 = roc_curve(y_teste,rf_pred)\n",
    "#rfp_svm, rvp_svm,lim3 = roc_curve(y_teste,svm_pred)\n",
    "pyplot.plot(rfp_rl, rvp_rl, marker='.', label='Regressão Logística='+str(round(curva_roc_escore_rl,2)),color='red')\n",
    "pyplot.plot(rfp_rf, rvp_rf, marker='.', label='Random Forest='+str(round(curva_roc_escore_rf,2)),color='blue')\n",
    "#pyplot.plot(rfp_svm, rvp_svm, marker='.', label='SVM='+str(round(curva_roc_escore_svm,2)),color='red')\n",
    "\n",
    "#Autoencoder\n",
    "rfp_rl_rede, rvp_rl_rede,lim7 = roc_curve(y_teste,pred_rl)\n",
    "rfp_rl_rede, rvp_rl_rede,lim8 = roc_curve(y_teste,pred_rf)\n",
    "rfp_svm_rede, rvp_svm_rede,lim9 = roc_curve(y_teste,pred_svm)\n",
    "plt.plot(rfp_rl_rede, rvp_rl_rede, marker='.', label='Regressão Logística Autoencoder='+str(round(curva_roc_escore_rl_rede,2)),color='yellow')\n",
    "plt.plot(rfp_rl_rede, rvp_rl_rede, marker='.', label='Random Forest Autoencoder='+str(round(curva_roc_escore_rf_rede,2)),color='purple')\n",
    "plt.plot(rfp_svm_rede, rvp_svm_rede, marker='.', label='SVM Autoencoder='+str(round(curva_roc_escore_svm_rede,2)),color='green')\n",
    "\n",
    "pyplot.plot([0, 1], [0, 1], color='black', linestyle='--')\n",
    "# alterando o nome dos eixos\n",
    "pyplot.xlabel('1- Especificidade (FP)')\n",
    "pyplot.ylabel('Sensibilidade (VP)')\n",
    "pyplot.legend()\n",
    "# Mostrando o gráfico\n",
    "# Mostrando o gráfico\n",
    "plt.rcParams[\"figure.figsize\"] = (15, 5)\n",
    "plt.show()"
   ]
  }
 ],
 "metadata": {
  "kernelspec": {
   "display_name": "Python 3",
   "language": "python",
   "name": "python3"
  },
  "language_info": {
   "codemirror_mode": {
    "name": "ipython",
    "version": 3
   },
   "file_extension": ".py",
   "mimetype": "text/x-python",
   "name": "python",
   "nbconvert_exporter": "python",
   "pygments_lexer": "ipython3",
   "version": "3.8.8"
  }
 },
 "nbformat": 4,
 "nbformat_minor": 5
}
